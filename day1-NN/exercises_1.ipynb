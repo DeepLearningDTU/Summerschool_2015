{
 "cells": [
  {
   "cell_type": "markdown",
   "metadata": {},
   "source": [
    "# Neural networks 101\n",
    "In this notebook you will implement a simple neural network. We'll implement the forward-pass, backpropagation and analyse the effects of different loss functions, activation functions, and architectures. We assume that you are already familiar with backpropation. If not, please refer to the section below. Also [Andrej Karpathy] (http://cs.stanford.edu/people/karpathy/) or [Michal Nielsen] (http://neuralnetworksanddeeplearning.com/chap2.html) has written good descriptions of backprob."
   ]
  },
  {
   "cell_type": "markdown",
   "metadata": {},
   "source": [
    "# Backpropagation explained\n",
    "At first backpropagation in a neural network may seem very complicated. However it can be decomposed into smaller self-contained problems by mechanically applying the chain-rule. This is the method used by all major neural network libraries (Torch, Caffe, Theano, deeppy), and the one we will study here.\n",
    "\n",
    "Recall that a neural network (parameterized by weights W) predicts a target given an input x i.e. $y = p(y|x,W)$. Training a neural network then corresponds to changing the weights W such that the error $E$ between the predicted targets $y$ and the true targets $t$ is minimized. Here E is usually defined as either:\n",
    "\n",
    "1. $E = \\frac{1}{2} \\sum^{K}_{k=1}(y_k-t_k)^2$ For regression problems (Mean Squared Error)\n",
    "2. $E = -\\sum^{K}_{k=1}t_k \\log y_k$ For classification problems (Cross Entropy Error)\n",
    "\n",
    "Neural Networks are usually trained using gradient descent. Here we update $W_{ij}$ by going in the negative direction of $\\frac{\\partial E}{\\partial w_{ji}}$ with $\\alpha$ determining the step size. \n",
    "\n",
    "$W_{ij} = W_{ij} - \\alpha\\frac{\\partial E}{\\partial w_{ji}}$.\n",
    "\n",
    "Backpropagation is simply an effective way to calculate the exact gradient of E w.r.t to all the weights in the network.\n",
    "\n",
    "\n",
    "### Backpropagation Notation\n",
    "Let's start with a small toy network to get hold of the notation.\n",
    "\n",
    "<img src=\"./FFNcasper.png\" alt=\"The network that you are to implement.\" width=\"500\">\n",
    "\n",
    "We use the following notation:\n",
    "\n",
    " * $z^{(l)}$ is the input to a layer $l$\n",
    " * $z^{(l+1)}$ is the output of layer $l$\n",
    " * $t_j,...,t_k$  true targets\n",
    " * $y_j,...,y_k$ predicted targets\n",
    " * $h(\\cdot)$ Nonlinear activation function (sigmoid, tanh, ReLU etc)\n",
    " \n",
    "We define $z^{(0)} = x$.\n",
    "\n",
    "\n",
    "#### Forward Pass\n",
    "\n",
    "\n",
    "In the forward pass all the activations $z^{(l)}_k$ are calculated \"bottom up\". Especially note that the output to the $l$'th layer can be calculated using the output of the ($l-1$)'th layer. \n",
    "\n",
    "$$\n",
    "\\begin{align}\n",
    "z^{(l+1)} &=  f (z^{(l)}, w^l) \\\\\n",
    "\\end{align}\n",
    "$$\n",
    "\n",
    "Hence a layer is just a simple function parameterized by $w$ performing some transformation on its output. **Note that we define weigths and nonlinearities as separate layers which differ from the conventional textbook approach. However this have the advantage of having an almost one-to-one mapping between theory and implementation.**\n",
    "\n",
    "The forward pass for common neural network layers:\n",
    " * Linear layer: $z^{(l+1)} =  z^{(l)}w^l + b^{l}$ \n",
    " * Sigmoid layer: $z^{(l+1)} =  \\sigma (z^{(l)} )$ \n",
    " * Softmax layer: $z^{(l+1)} =  \\frac{exp(z^{(l)})}{\\sum_j exp(z^{(l)}_j)}$ \n",
    "\n",
    "\n",
    "#### Calculate the Error\n",
    "\n",
    "The goal of backpropation is to calculate $\\frac{\\partial E}{\\partial w}$ and $\\frac{\\partial E}{\\partial b}$ for all parameters in the network. To calculate the loss function well simply plug in the output of the network into the loss function which \"measures\" the difference between the true and predicited targets. Note that this is always just a single number!\n",
    "\n",
    "$$\n",
    "\\begin{align}\n",
    "E = f(z^{(L)},t), \\text{  }   E \\in \\mathbb{R}\n",
    "\\end{align}\n",
    "$$\n",
    "\n",
    "Where $L$ denotes the last layer of the network and $f(\\cdot)$ can be any differentiable function calculating the difference between true and predicted targets. \n",
    "\n",
    "#### Backpropagate the Error\n",
    "\n",
    "Backpropagations is an algorithm to calculate the gradient error w.r.t. the weights $\\frac{\\partial E}{\\partial w}$. This can be done by calculating the loss/error of the neural network using the activations from the forward pass, and \"backpropagate\" this error through the network going \"top down\". Without further introduction we will make the following usefull defintion:\n",
    "\n",
    "$$ \n",
    "\\delta_k^{(l)} \\equiv \\frac{\\partial E}{\\partial z_k^{l}} \n",
    "$$\n",
    "\n",
    "Intuitively this describes the error at the k'th unit in the l'th layer. This is known as the delta-message or the error-message at the k'th neuron in layer l.\n",
    "\n",
    "#### Error at output layer L\n",
    "\n",
    "At the output layer the delta-message is:\n",
    "$$ \n",
    "\\delta_k^{(L)} = \\frac{\\partial E}{\\partial z_k^{L}} \n",
    "$$\n",
    "which can be computed using the loss funtion. This is simply the error function differentiated w.r.t to the output of the network. As above we will vectorize this equation to calculate the error for all neurons in the L'th layer\n",
    "\n",
    "$$ \n",
    "\\delta^{(L)} = \\bigtriangledown_{z^L} E\n",
    "$$\n",
    "\n",
    "Where $\\bigtriangledown_a E$ means: partial derivative of E w.r.t to all elements in $z^L$.\n",
    "\n",
    "#### Error in the l'th layer\n",
    "\n",
    "The error $\\delta^l$ in each layer can be calculated using the error $\\delta^{l+1}$ in the layer above:\n",
    "\n",
    "$$ \n",
    "\\delta^{(l)} = \\frac{\\partial E}{\\partial z^{l}} = \\frac{\\partial E}{\\partial z^{l+1}}\\frac{\\partial z^{l+1}}{\\partial z^{l}} = \\delta^{l+1}\\frac{\\partial z^{l+1}}{\\partial z^{l}}^T \n",
    "$$\n",
    "\n",
    "In plain english a layers error-message is the error-message from the layer above multiplied with the layers output differentiated w.r.t its input.\n",
    "\n",
    "The backward pass for common neural network layers:\n",
    " * Linear layer: $\\delta^{(l)} =  \\frac{\\partial E}{\\partial z^{l+1}}\\frac{\\partial z^{l+1}}{\\partial z^l} = \\frac{\\partial (z^{(l)}w^{l+1} + b^{l+1})}{\\partial z^l} = \\delta^{(l+1)}w^{l} $\n",
    " \n",
    " * Sigmoid layer: $\\delta^{(l)} =  \\frac{\\partial E}{\\partial z^{l+1}}\\frac{\\partial z^{l+1}}{\\partial z^l} = \\frac{\\partial (\\sigma(z^{l+1}))}{\\partial z^l} = \\delta^{(l+1)}\\odot \\sigma'(z^{l}) $\n",
    "\n",
    "Where $\\odot$ is the hadamard vector product i.e. element wise multiplication. \n",
    "\n",
    "This important results states that we can calculate all the error-messages in the network by starting at the topmost layer and \"backpropagate\" the errors through the network.\n",
    "\n",
    "\n",
    "#### Gradients w.r.t parameters\n",
    "\n",
    "Using these errors calculated at each layer partial derivatives w.r.t the weights are:\n",
    "\n",
    "$$\n",
    "\\frac{\\partial E}{\\partial w^{(l)}_{jk}} = \\frac{\\partial E}{\\partial z^{l+1}} \\frac{\\partial z^{l+1}}{\\partial  w^{l}_{ik}} = \\frac{\\partial z^{l+1}_k}{\\partial  w^{l}_{ik}} \\delta^{l+1}_k \n",
    "$$\n",
    "\n",
    "and for the bias\n",
    "\n",
    "$$\n",
    "\\frac{\\partial E}{\\partial b^{(l)}_{k}} = \\frac{\\partial E}{\\partial z^{l+1}} \\frac{\\partial z^{l+1}}{\\partial  b^{l}_{k}} = \\frac{\\partial z^{l+1}_k}{\\partial  b^{l}_{k}} \\delta^{l+1}_k \n",
    "$$\n",
    "\n",
    "#### Neural networks as layers - key points\n",
    "By viewing neural networks as a number og layers(actually functions) stacked on top of each other allows us to consider each layer as a self-contained building block used to construct neural networks. For each layer we must be able to calculate/implement three things:\n",
    "\n",
    " * **Forward Pass** - Calculate output given the output from the layer below: $z^{(l+1)} =  f (z^{(l)}, w^l)$\n",
    " * **Backward Pass** - Calculate error message given the delta message from the layer above: $\\delta^{(l)} = \\delta^{l+1}\\frac{\\partial z^{l+1}}{\\partial z^{l}}^T$. \n",
    " * **Update parameters**: If the layer has any paramemters we need to define a method to update these i.e. $\\frac{\\partial E}{\\partial w^{(l)}_{jk}}  = \\frac{\\partial z^{l+1}_k}{\\partial  w^{l}_{ik}} \\delta^{l+1}_k$ and $\\frac{\\partial E}{\\partial b^{(l)}_{k}} =\\frac{\\partial z^{l+1}_k}{\\partial  b^{l}_{k}} \\delta^{l+1}_k $\n",
    "\n",
    "\n",
    "<img src=\"./layer.png\" alt=\"Layers as self-contained units\" width=\"200\">\n",
    "\n",
    "\n",
    "# Summary\n",
    "\n",
    "All the steps have been vizualized for a two-hidden-layer network i the figure below:\n",
    "\n",
    "\n",
    "<img src=\"./notation.png\" alt=\"The network that you are to implement.\" width=\"700\">\n",
    "\n",
    "Backprob step-by-step:\n",
    " * ** Forward Pass: ** Recursively calculate the activations of all layer \"bottom up\" using the activations of the layer below: $z^{(l+1)} =  f (z^{(l)}, w^l)$. Initialize with $z^{(0)} = x$\n",
    " * ** Backward Pass: ** Recursively calculate the error-messages of all layers \"top down\" using the delta-messages from the layer above: $\\delta^{(l)} = \\delta^{l+1}\\frac{\\partial z^{l+1}}{\\partial z^{l}}^T$. Initalize with $\\delta_k^{(L)} = \\frac{\\partial E}{\\partial z_k^{L}}$\n",
    " * ** Update Parameters: ** Update the parameters of all layers using the activations and the delta-messages i.e. $\\frac{\\partial E}{\\partial w^{(l)}_{jk}}  = \\frac{\\partial z^{l+1}_k}{\\partial  w^{l}_{ik}} \\delta^{l+1}_k$ and $\\frac{\\partial E}{\\partial b^{(l)}_{k}} =\\frac{\\partial z^{l+1}_k}{\\partial  b^{l}_{k}} \\delta^{l+1}_k $\n",
    "\n",
    " \n",
    "The backprob algorithm is fairly complicated and it might take several tries to fully grasp whats going on. However, using the above equations we can implement a working neural network which is the good way to fully understand whats going on. we have put the proofs of the equations for optional reading below.\n",
    "\n",
    "\n",
    "###Backprob deriviation\n",
    "\n",
    "To prove that $\\delta_k^{(l)}$ can  be calculated using $\\delta_k^{(l+1)}$\n",
    "$$\n",
    "\\begin{eqnarray}\n",
    "  \\delta^l_j & = & \\frac{\\partial E}{\\partial z^l_j} \\\\\n",
    "  & = & \\sum_k \\frac{\\partial E}{\\partial z^{l+1}_k} \\frac{\\partial z^{l+1}_k}{\\partial z^l_j} \\\\ \n",
    "  & = & \\sum_k \\frac{\\partial z^{l+1}_k}{\\partial z^l_j} \\delta^{l+1}_k = \\frac{\\partial z^{l+1}_k}{\\partial z^l_k} \\delta^{l+1}_k \\tiny{\\blacksquare} \n",
    "\\end{eqnarray}\n",
    "$$\n",
    "\n",
    "To calculate the gradients of the weights and bias first note that in any layer of the network we have \n",
    "\n",
    "$$ \\frac{\\partial z^{l}_k}{\\partial w^{l}_{ik}} = \\frac{\\partial \\sum_j w^{(l)}_{ij}z^{(l-1)}_j + b^{(l)}_j }{\\partial w^{(l)}_{ik}} = z^{(l-1)}_k $$\n",
    "\n",
    "$$ \\frac{\\partial z^{l}_k}{\\partial b^{l}_k} = \\frac{\\partial \\sum_j w^{(l)}_{ij}z^{(l-1)}_j + b^{(l)}_j }{\\partial b^{(l)}_k} = 1 $$\n",
    "\n",
    "To calculate the gradient of the cost funtion of a parameter in the l'th layer well use the chain rule:\n",
    "\n",
    "$$ \\frac{\\partial E}{\\partial w^{l}_{ik}} = \\frac{\\partial E}{\\partial z^{l+1}_k} \\frac{\\partial z^{l+1}_k}{\\partial  w^{l}_{ik}} = \\frac{\\partial z^{l}_k}{\\partial  w^{l}_{ik}}\\delta^{l+1}_k\\tiny{\\blacksquare}$$\n",
    "\n",
    "$$ \\frac{\\partial E}{\\partial b^{l}_k} = \\frac{\\partial E}{\\partial z^{l+1}_k} \\frac{\\partial z^{l+1}_k}{\\partial  b^{l}_k} = \\frac{\\partial z^{l+1}_k}{\\partial  b^{l}_k}\\delta^{l+1}_k \\tiny{\\blacksquare}$$\n",
    "\n",
    "Where we used the definition $\\delta^{l}_k \\equiv \\frac{\\partial E}{\\partial z_k^{l}}$"
   ]
  },
  {
   "cell_type": "markdown",
   "metadata": {},
   "source": [
    "# MNIST dataset\n",
    "The MNIST dataset consists of 70,000 images of handwritten digits from 0-9. The dataset is split into a 50,000 images training set, 10,000 images validation set and 10,000 images test set. The images are 28x28 pixels, where each pixel represents a normalised value between 0-255 (0=black and 255=white).\n",
    "\n",
    "First let's load the MNIST dataset and plot a few examples:"
   ]
  },
  {
   "cell_type": "code",
   "execution_count": 1,
   "metadata": {
    "collapsed": true
   },
   "outputs": [],
   "source": [
    "import numpy as np # Scientific library for numerical programming.\n",
    "import matplotlib.pyplot as plt # Plotting library.\n",
    "import matplotlib\n",
    "%matplotlib inline"
   ]
  },
  {
   "cell_type": "code",
   "execution_count": 6,
   "metadata": {
    "collapsed": true
   },
   "outputs": [],
   "source": [
    "def onehot(t, num_classes):\n",
    "    out = np.zeros((t.shape[0], num_classes))\n",
    "    for row, col in enumerate(t):\n",
    "        out[row, col] = 1\n",
    "    return out\n",
    "\n",
    "data = np.load('mnist.npz')\n",
    "num_classes = 10\n",
    "x_train = data['X_train'][:2000].astype('float32')\n",
    "targets_train = data['y_train'][:2000]\n",
    "targets_train = onehot(targets_train, num_classes)\n",
    "\n",
    "x_valid = data['X_valid'][:500].astype('float32')\n",
    "targets_valid = data['y_valid'][:500]\n",
    "targets_valid = onehot(targets_valid, num_classes)\n",
    "\n",
    "x_test = data['X_test'][:500].astype('float32')\n",
    "targets_test = data['y_test'][:500]\n",
    "targets_test = onehot(targets_test, num_classes)\n"
   ]
  },
  {
   "cell_type": "code",
   "execution_count": 14,
   "metadata": {
    "collapsed": false
   },
   "outputs": [
    {
     "data": {
      "image/png": "[encoded data removed]",
      "text/plain": [
       "<matplotlib.figure.Figure at 0x11823a610>"
      ]
     },
     "metadata": {},
     "output_type": "display_data"
    }
   ],
   "source": [
    "idx = 0\n",
    "canvas = np.zeros((28*10, 10*28))\n",
    "for i in range(10):\n",
    "    for j in range(10):\n",
    "        canvas[i*28:(i+1)*28, j*28:(j+1)*28] = x_train[idx].reshape((28, 28))\n",
    "        idx += 1\n",
    "plt.figure(figsize=(7, 7))\n",
    "plt.imshow(canvas, cmap='gray')\n",
    "plt.title('MNIST handwritten digits')\n",
    "plt.show()"
   ]
  },
  {
   "cell_type": "markdown",
   "metadata": {},
   "source": [
    "The input data is a *#samples* by 784 $(28^2)$ matrix and the targets are a *#samples* by 10 matrix. The targets are one-of-k encoded. We represent the correct label for each sample with a #classes dimensional vector with a 1 at the index corresponding to the correct class.\n",
    "\n",
    "As example we plot the label of the 10 first digits from the training set. You can verify that these labels match with the first 10 digits in the first row in the image above. One-of-k encoding should typically be used when you have categorical targets. "
   ]
  },
  {
   "cell_type": "code",
   "execution_count": 15,
   "metadata": {
    "collapsed": false
   },
   "outputs": [
    {
     "name": "stdout",
     "output_type": "stream",
     "text": [
      "One-of-k                                  | Label\n",
      "--------------------------------------------------\n",
      "[ 0.  0.  0.  0.  0.  1.  0.  0.  0.  0.] | 5\n",
      "[ 1.  0.  0.  0.  0.  0.  0.  0.  0.  0.] | 0\n",
      "[ 0.  0.  0.  0.  1.  0.  0.  0.  0.  0.] | 4\n",
      "[ 0.  1.  0.  0.  0.  0.  0.  0.  0.  0.] | 1\n",
      "[ 0.  0.  0.  0.  0.  0.  0.  0.  0.  1.] | 9\n",
      "[ 0.  0.  1.  0.  0.  0.  0.  0.  0.  0.] | 2\n",
      "[ 0.  1.  0.  0.  0.  0.  0.  0.  0.  0.] | 1\n",
      "[ 0.  0.  0.  1.  0.  0.  0.  0.  0.  0.] | 3\n",
      "[ 0.  1.  0.  0.  0.  0.  0.  0.  0.  0.] | 1\n",
      "[ 0.  0.  0.  0.  1.  0.  0.  0.  0.  0.] | 4\n"
     ]
    }
   ],
   "source": [
    "print \"One-of-k\" + \" \"*34  + \"| Label\"\n",
    "print \"-\"*50\n",
    "for i in range(10):\n",
    "   print targets_train[i], \"|\",  targets_train[i].argmax(axis=-1)"
   ]
  },
  {
   "cell_type": "markdown",
   "metadata": {},
   "source": [
    "In this notebook we are going to apply two modeling approaches to the MNIST dataset:\n",
    "1. Supervised classifier where the network inputs $x_i,...,x_n$ ($n=28x28=784$) are the image from the training_set and the output $y_j,...,y_k$ ($k=10$) is the multinomial probability an image being part of a class defined by the targets_train set.\n",
    "2. Deep autoencoder where we are finding a good internal representation $y_j,...,y_k$ of an image $x_i,...,x_n$, by comparing it to a reconstruction $\\hat{x}_i,...,\\hat{x}_n$. "
   ]
  },
  {
   "cell_type": "markdown",
   "metadata": {},
   "source": [
    "#Writing a feed-forward neural network\n",
    "\n",
    "In this exercise we will implement a neural network using a layerwise modular approach. For generality we will separate the linear weights and the nonlinearities into separate layers.\n",
    "\n",
    "The key idea is to realize that a layer should be able to \n",
    "  * Calculate its outout given the input from the layer below, \n",
    "  * Calculate a $\\delta$-message given the $\\delta$-message from the layer above\n",
    "  * Update its parameters (if any) using the $\\delta$-message from the layer above\n",
    "\n",
    "We will call the input to all layers for $z^l$ and the output from all layers for $z^{l+1}$. \n",
    "\n",
    "All code should be implemented using the matrix-notation versions of the equations presented above. This makes your code 1) Easier to read, 2) A lot faster since it will use highly optimized linear algebra libraries on the computer.\n",
    "\n",
    "In the code examples we'll use the following notation:\n",
    "\n",
    " * $x$ : batchsize x numInputs   (inputs)\n",
    " * $W^0$ : numInputs x numHiddenUnits (input to hidden weights)\n",
    " * $b^0$ : [1 x numHiddenUnits] (hidden units biases)\n",
    " * $W^2$ : [numHiddenUnits x NumOutputs] (hidden units to output)\n",
    " * $b^2$ : [1 x numOutputUnits]  (output unit biases)\n",
    " \n",
    "In matrix notation the Forward pass can be written as\n",
    "$$\n",
    "\\begin{align}\n",
    "    z^{(0)} &= = x \\\\\n",
    "    z^{(1)} &= z^{(0)}W^{(0)} + b^{(0)}  \\\\\n",
    "    z^{(2)} &= \\tanh(z^{(2)}) \\\\\n",
    "    z^{(3)} &= z^{(2)}W^{(2)} + b^{(2)} \\\\\n",
    "    y &= softmax(z^{(3)})\n",
    "\\end{align}\n",
    "$$\n",
    "We can then define the forward pass in a neural network with tanh activation and softmax output in a few lines of python code \n",
    "\n",
    "```PYTHON\n",
    "import numpy as np\n",
    "z0 = x\n",
    "z1 = np.dot(z0, W_0) + b_0  # b_0 is broadcasted\n",
    "z2 = np.tanh(z2)\n",
    "z3 = np.dot(z2, W_2) + b_2  # b_2 is broadcasted\n",
    "# softmax z2 to get the output (softmax is explained later)\n",
    "exp_z3 = np.exp(z3)\n",
    "y = exp_z3 / exp_z3.sum(axis=1, keepdims=True)\n",
    "\n",
    "```\n",
    "\n",
    "**You should confirm that the shape of** `y` ** is [batchsize x numClasses].** \n",
    "\n",
    "The code snippet uses [numpy broadcasting](http://docs.scipy.org/doc/numpy/user/basics.broadcasting.html) please make sure that you understand numpy broadcasting. If you don't you should solve the exercise below."
   ]
  },
  {
   "cell_type": "code",
   "execution_count": 20,
   "metadata": {
    "collapsed": false
   },
   "outputs": [],
   "source": [
    "# fun with broadcasting. Divide each element in row 1 of x with 1, each element in row 2 with 2 etc. This \n",
    "# You may find numpy reshape and numpy arange and x.shape usefull. This should be one or two lines of code and no \n",
    "# for loops\n",
    "x = np.ones((3, 5))\n",
    "\n",
    "\n",
    "# correct output\n",
    "# [[ 1.          1.          1.          1.          1.        ]\n",
    "#  [ 0.5         0.5         0.5         0.5         0.5       ]\n",
    "#  [ 0.33333333  0.33333333  0.33333333  0.33333333  0.33333333]]"
   ]
  },
  {
   "cell_type": "markdown",
   "metadata": {},
   "source": [
    "## Writing a linear layer\n",
    "A linear layer takes an input $z$ and makes a linear transformation to calculate the output $z^{l+1}=w^{l} z^{l}+b^{l}$. \n",
    "\n",
    "The $\\delta$-message is\n",
    "\n",
    "$$\n",
    "    \\delta^{l} = \\frac{\\partial E}{\\partial z^{l}} =  \\frac{\\partial E}{\\partial z^{l+1}} \\frac{\\partial z^{l+1}}{\\partial z^{l}} = w^{(l) T} \\delta^{l+1}\n",
    "$$\n",
    "\n",
    "Lastly we note that we also need to implement the the update of the weights. This is simply done by calculating the gradient for all parameters (recall that $\\frac{\\partial E}{\\partial w^{l}} = z^{l} \\delta^{l+1}$ )\n",
    "\n",
    "\n",
    "#####Exercise 1: Continue writing the linear layer, following the template given below."
   ]
  },
  {
   "cell_type": "code",
   "execution_count": 5,
   "metadata": {
    "collapsed": true
   },
   "outputs": [],
   "source": [
    "class LinearLayer():\n",
    "    def __init__(self, num_inputs, num_units, scale=0.01):\n",
    "        self.num_units = num_units\n",
    "        self.num_inputs = num_inputs\n",
    "        self.W = np.random.random((num_inputs, num_units)) * scale\n",
    "        self.b = np.zeros(num_units)\n",
    "\n",
    "    def __str__(self): \n",
    "        return \"LinearLayer(%i, %i)\" % (self.num_inputs, self.num_units)\n",
    "\n",
    "    def fprop(self, x, *args):\n",
    "        # TODO: Write the code for a linear forward-pass and return this value.\n",
    "        raise NotImplemented()\n",
    "        self.x = x\n",
    "        self.z = ????\n",
    "        return self.z \n",
    "        \n",
    "    def bprop(self, delta_in):\n",
    "        # TODO: Write the code for calculating delta and return this value.\n",
    "        raise NotImplemented()\n",
    "        x_t = np.transpose(self.x)\n",
    "        self.grad_W = ???\n",
    "        self.grad_b = ???\n",
    "        W_T = np.transpose(self.W)\n",
    "        self.delta_out = ????\n",
    "        return self.delta_out\n",
    "    \n",
    "    def update_params(self, lr):\n",
    "        self.W = self.W - self.grad_W*lr\n",
    "        self.b = self.b - self.grad_b*lr"
   ]
  },
  {
   "cell_type": "markdown",
   "metadata": {},
   "source": [
    "## Writing activation function layers\n",
    "The forward propagation of the activation function layer is applied as a transformation of the output of a subsequent linear layer, $z^{l+1}=h(z^{l})$, where $z=z_j,...,z_k$ is denoted the output vector of the layer. \n",
    "\n",
    "There exists multiple activation functions, where the most common are:\n",
    "- linear function $f(a) = a$,\n",
    "- sigmoid function $\\sigma (a)=\\frac{1}{1+exp(-a)}$,\n",
    "- tanh function $tanh(a)=\\frac{exp(a)-exp(-a)}{exp(a)+exp(-a)}$,\n",
    "- ReLU function $f(a)=max(0,a)$,\n",
    "- softplus function $f(a)=ln(1+exp(a))$.\n",
    "\n",
    "For a feedforward network the ReLU activation function is often a good choice."
   ]
  },
  {
   "cell_type": "code",
   "execution_count": 6,
   "metadata": {
    "collapsed": false
   },
   "outputs": [
    {
     "data": {
      "image/png": "[encoded data removed]",
      "text/plain": [
       "<matplotlib.figure.Figure at 0x10b4b2110>"
      ]
     },
     "metadata": {},
     "output_type": "display_data"
    }
   ],
   "source": [
    "def linear(x):\n",
    "    return x\n",
    "\n",
    "def sigmoid(x):\n",
    "    return 1 / (1 + np.exp(-x))\n",
    "\n",
    "def tanh(x):\n",
    "    return (np.exp(x)-np.exp(-x)) / (np.exp(x)+np.exp(-x))\n",
    "\n",
    "def relu(x):\n",
    "    return np.maximum(0, x)\n",
    "\n",
    "def softplus(x):\n",
    "    return np.log(np.exp(x) + 1)\n",
    "\n",
    "x = np.linspace(-10,10,100)\n",
    "\n",
    "plt.subplot(321)\n",
    "plt.plot(linear(x))\n",
    "plt.title('linear activation')\n",
    "plt.subplot(322)\n",
    "plt.plot(sigmoid(x))\n",
    "plt.title('sigmoid activation')\n",
    "plt.subplot(323)\n",
    "plt.plot(tanh(x))\n",
    "plt.title('tanh activation')\n",
    "plt.subplot(324)\n",
    "plt.plot(relu(x))\n",
    "plt.title('relu activation')\n",
    "plt.subplot(325)\n",
    "plt.plot(softplus(x))\n",
    "plt.title('softplus activation')\n",
    "plt.tight_layout()\n",
    "plt.show()"
   ]
  },
  {
   "cell_type": "markdown",
   "metadata": {},
   "source": [
    "#####Exercise 2: Continue writing the activation layer, following the template given below.\n",
    "As a starter we'll show you how to solve the sigmoid activation function. The forward pass is already given above:\n",
    "\n",
    "$$f(x) = \\frac{1}{1 + exp(-x)}$$\n",
    "\n",
    "and in Python\n",
    "\n",
    "```PYTHON\n",
    "1.0 / (1.0 + np.exp(-x))\n",
    "```\n",
    "\n",
    "For the backward pass we need to find the derivative of the sigmoid w.r.t to the input:\n",
    "\n",
    "$$\\frac{\\partial f}{\\partial x} = \\frac{\\partial}{\\partial x} (1+exp(-x))^{-1} = (-1)(1+exp(-x))^{-2}(-exp(-x)) = (1+exp(-x))^{-2}exp(-x) = \\frac{1}{1+exp(-x)} \\frac{exp(-x)}{1+exp(-x)} = $$\n",
    "$$ \\frac{1}{1+exp(-x)} \\frac{(1+exp(-x))-1}{1+exp(-x)} = \\frac{1}{1+exp(-x)} \\frac{1+exp(-x)}{1+exp(-x)} \\frac{-1}{1+exp(-x)} = f(x)(1-f(x))$$\n",
    "\n",
    "This shows that the gradient of the sigmoid can be calculated from the output of the sigmoid layer. When implementing the sigmoid we want save the output from the forward pass and use it when doing the backward pass. \n",
    "\n",
    "*When you have implemented the ReLU function you can go to the next section. If you have extra time you can implement the other activation functions*"
   ]
  },
  {
   "cell_type": "code",
   "execution_count": 23,
   "metadata": {
    "collapsed": true
   },
   "outputs": [],
   "source": [
    "class SigmoidActivationLayer():\n",
    "    def __str__(self): \n",
    "        return \"Sigmoid()\"\n",
    "    \n",
    "    def fprop(self, x, train=True):\n",
    "        fx = 1.0 / (1.0 + np.exp(-x)) # calculate sigmoid\n",
    "        self.fx = fx  # cache output for use during backward pass \n",
    "        return fx  \n",
    "\n",
    "    def bprop(self, delta_in):\n",
    "        return self.fx*(1-self.fx)\n",
    "\n",
    "    def update_params(self, lr):\n",
    "        pass  # no params to update\n",
    "\n",
    "class ReluActivationLayer():\n",
    "    def __str__(self): \n",
    "        return \"ReLU()\"\n",
    "\n",
    "    def fprop(self, x, train=True):\n",
    "        raise NotImplemented()\n",
    "\n",
    "    def bprop(self, delta_in):\n",
    "        raise NotImplemented()\n",
    "        \n",
    "    def update_params(self, lr):\n",
    "        pass\n",
    "\n",
    "class TanhActivationLayer():\n",
    "    def __str__(self): \n",
    "        return \"Tanh()\"\n",
    "    \n",
    "    def fprop(self, x, train=True):\n",
    "        raise NotImplemented()\n",
    "\n",
    "    def bprop(self, delta_in):\n",
    "        raise NotImplemented()\n",
    "\n",
    "    def update_params(self, lr):\n",
    "        pass\n",
    "    \n",
    "class SoftplusActivationLayer():\n",
    "    def __str__(self):\n",
    "        return \"Softplus()\"\n",
    "    \n",
    "    def fprop(self, x, train=True):\n",
    "        raise NotImplemented()\n",
    "\n",
    "    def bprop(self, delta_in):\n",
    "        raise NotImplemented()\n",
    "        \n",
    "    def update_params(self, lr):\n",
    "        pass"
   ]
  },
  {
   "cell_type": "markdown",
   "metadata": {},
   "source": [
    "##Writing the output activation function\n",
    "In a classifier the output of the network must be a $k$-dimensional vector of real values that sums to 1. Here we introduce the softmax activation function, which is a generalization of the logistic sigmoid function:\n",
    "$\\sigma (z_j) = \\frac{exp(z_j)}{\\sum_k exp(z_k)}$.\n",
    "\n",
    "####Exercise 3: Continue writing the softmax activation layer, following the template given below.\n",
    "*Hints*: \n",
    "\n",
    "* The forward pass can be implemented in a few lines of code without for-loops. You'll need to use broadcasting when dividing by the denominator (i.e the normalizing constant)\n",
    "* The backward pass is very simple. Consider what happens to the sum in the denominator when you take the gradient w.r.t $z_j$."
   ]
  },
  {
   "cell_type": "code",
   "execution_count": 1,
   "metadata": {
    "collapsed": true
   },
   "outputs": [],
   "source": [
    "class SoftmaxActivationLayer():\n",
    "    def __str__(self): \n",
    "        return \"Softmax()\"\n",
    "    \n",
    "    def fprop(self, x, train=True):\n",
    "        raise NotImplemented()\n",
    "\n",
    "    def bprop(self, delta_in):\n",
    "        # We'll derive the gradient of CrossEntropyLoss(softmax(x))\n",
    "        # in CrossEntropyLoss. softmax backprob should therefore return\n",
    "        # identity. Cf. Bishop p. 241->...\n",
    "        raise NotImplemented()\n",
    "\n",
    "    def update_params(self, lr):\n",
    "        pass"
   ]
  },
  {
   "cell_type": "markdown",
   "metadata": {},
   "source": [
    "# Loss layers\n",
    "Loss layers are slightly different because they take both prediction probabilities and true targets as output. Many different loss layers exists. Here we implement squared loss and cross entropy loss. \n",
    "\n",
    "1. For regression problems use a linear output and MeanSquaredError loss, $\\frac{1}{2} \\sum^{K}_{k=1}(y_k-t_k)^2$.\n",
    "2. For classification problems use a SoftmaxLayer as output and CrossEntropyLoss, $-\\sum^{K}_{k=1}t_k \\log y_k$.\n",
    "\n",
    "\n",
    "#####Exercise 4: Continue writing the mean squared loss and cross entropy loss functions."
   ]
  },
  {
   "cell_type": "code",
   "execution_count": 9,
   "metadata": {
    "collapsed": true
   },
   "outputs": [],
   "source": [
    "class MeanSquaredLoss():\n",
    "    def __str__(self): \n",
    "        return \"MeanSquaredLoss()\"\n",
    "    \n",
    "    def fprop(self, x, t):\n",
    "        # TODO: Write the code for calculating the error and return this value.\n",
    "        raise NotImplemented()\n",
    "\n",
    "    def bprop(self, y, t):\n",
    "        # TODO: Write the code for calculating derivative of the error and return this value.\n",
    "        raise NotImplemented()\n",
    "        \n",
    "    def update_params(self):\n",
    "        pass\n",
    "\n",
    "class CrossEntropyLoss():\n",
    "    def __str__(self): \n",
    "        return \"CrossEntropyLoss()\"\n",
    "    \n",
    "    def fprop(self, x, t):\n",
    "        # TODO: Write the code for calculating the error and return this value.\n",
    "        raise NotImplemented()\n",
    "        \n",
    "    def bprop(self, y, t):\n",
    "        # TODO: Write the code for calculating derivative of the error and return this value.\n",
    "        raise NotImplemented()\n",
    "        \n",
    "    def update_params(self):\n",
    "        pass"
   ]
  },
  {
   "cell_type": "markdown",
   "metadata": {},
   "source": [
    "#Setting up the model"
   ]
  },
  {
   "cell_type": "markdown",
   "metadata": {},
   "source": [
    "Because we have implemented the layers with a forward pass (`fprop`) and a backward pass (`bprop`) we only need to setup the layers and connect them.\n",
    "\n",
    "#####Exercise 5: Write a classifier with one 100 unit linear layers, corresponding relu activation layer,  and a softmax output layer. Use the cross entropy loss as the loss layer.\n",
    "\n",
    "<img src=\"./network.png\" alt=\"The network that you are to implement.\">"
   ]
  },
  {
   "cell_type": "code",
   "execution_count": 10,
   "metadata": {
    "collapsed": false
   },
   "outputs": [],
   "source": [
    "num_samples, num_inputs = x_train.shape\n",
    "num_hidden_units = 100\n",
    "num_classes = 10\n",
    "\n",
    "# TODO: Define each layer in the model here.\n",
    "l1 = LinearLayer(num_inputs, num_hidden_units) \n",
    "l2 = ?????\n",
    "l3 = ?????\n",
    "l4 = ?????\n",
    "\n",
    "LossLayer = CrossEntropyLoss()\n",
    "\n",
    "def forward(x):\n",
    "    # TODO: Write the forward pass through each layer. Return the softmax probabilities as the output.\n",
    "    out1 = l1.fprop(x)\n",
    "    out2 = l2.fprop(?????)\n",
    "    ?????\n",
    "    raise NotImplemented()\n",
    "\n",
    "\n",
    "def backward(y_probs, targets):\n",
    "    # TODO: Write the backward propagation of errors.\n",
    "    delta1 = LossLayer.bprop(???, ???)\n",
    "    delta2 = l_hid_act2.bprop(???)\n",
    "    delta3 = ???\n",
    "    ????\n",
    "    raise NotImplemented()\n",
    "\n",
    "def update(learning_rate):\n",
    "    # TODO: Write the update of each linear layer in the model.\n",
    "    l_hid_pre1.update_params(????)\n",
    "    ?????\n",
    "    raise NotImplemented()"
   ]
  },
  {
   "cell_type": "markdown",
   "metadata": {},
   "source": [
    "# Writing the training loop\n",
    "\n",
    "#####Exercise 6: Check whether the above implementations are implemented correctly by running the training loop below."
   ]
  },
  {
   "cell_type": "code",
   "execution_count": null,
   "metadata": {
    "collapsed": true
   },
   "outputs": [],
   "source": [
    "from confusionmatrix import ConfusionMatrix\n",
    "batch_size = 100\n",
    "num_epochs = 100\n",
    "learning_rate = 0.1\n",
    "num_samples = x_train.shape[0]\n",
    "num_batches = num_samples // batch_size\n",
    "\n",
    "\n",
    "train_acc, train_loss = [], []\n",
    "valid_acc, valid_loss = [], []\n",
    "test_acc, test_loss = [], []\n",
    "for epoch in range(num_epochs):\n",
    "    #Forward->Backprob->Update params\n",
    "    for i in range(num_batches):\n",
    "        idx = range(i*batch_size, (i+1)*batch_size)\n",
    "        x_batch = x_train[idx]\n",
    "        target_batch = targets_train[idx]\n",
    "        #FORWARD PASS\n",
    "        y_probs = ?????\n",
    "        batch_loss_cur = LossLayer.fprop(y_probs, target_batch) \n",
    "        #For large models you likely wan't to plot this to monitor the convergence of the model\n",
    "        batch_loss += [batch_loss_cur]\n",
    "        #BACKWARD PASS\n",
    "        ????\n",
    "        \n",
    "        #UPDATE PARAMETERS\n",
    "        ???\n",
    "        \n",
    "    #A lot of bookkeeping to track of performance - \n",
    "    confusion_train = ConfusionMatrix(num_classes)\n",
    "    #confusion_valid = ??\n",
    "    #confusion_test =??\n",
    "    \n",
    "    y_train_probs = forward(x_train)\n",
    "    train_loss_cur = LossLayer.fprop(y_train_probs, targets_train)\n",
    "    confusion_train.batch_add(targets_train.argmax(-1), y_train_probs.argmax(-1))\n",
    "    train_acc_cur = confusion_train.accuracy()\n",
    "    train_acc += [train_acc_cur]\n",
    "    train_loss += [train_loss_cur.mean()]\n",
    "\n",
    "    #Add tracking of validation and test performance below\n",
    "    valid_acc_cur = 0.0\n",
    "    \n",
    "    print \"Epoch %i : Train Loss %e , Train acc %f,  Valid acc %f \" \\\n",
    "    % (epoch+1, np.mean(train_loss_cur), train_acc_cur, valid_acc_cur)\n"
   ]
  },
  {
   "cell_type": "code",
   "execution_count": null,
   "metadata": {
    "collapsed": true
   },
   "outputs": [],
   "source": [
    "#Plot the performance - add the validation and test performacne when you hae implementet these\n",
    "print confusion\n",
    "plt.plot(range(num_epochs), train_acc)\n",
    "plt.title('Training Accuracy on MNIST')\n",
    "plt.xlabel('Epochs')\n",
    "plt.ylabel('Accuracy')\n",
    "plt.show()\n",
    "\n",
    "plt.plot(train_loss)\n",
    "plt.title('Training Losses on MNIST')\n",
    "plt.xlabel('Updates')\n",
    "plt.ylabel('Loss')\n",
    "plt.show()"
   ]
  },
  {
   "cell_type": "markdown",
   "metadata": {},
   "source": [
    "To avoid overfitting we introduce the use of test and validation set. These are not trained upon and will thereby provide an impression on the model generalization while training.\n",
    "\n",
    "#####Exercise 7: In the training loop above, only the training set is evaluated. Rewrite the training loop above to include the test and the validation set and plot the acc/losses for train/valid/test data."
   ]
  },
  {
   "cell_type": "markdown",
   "metadata": {},
   "source": [
    "With low learning rates the improvements will be linear. With higher learning rates the progression will be more exponential. With a higher learning rate, the loss will decay faster, but the model may get stuck at a worse state, since the training is not able to reach near a minima in the error space.\n",
    "\n",
    "#####Exercise 8: Experiment with different learning rates to increase the accuracy of the model."
   ]
  },
  {
   "cell_type": "markdown",
   "metadata": {},
   "source": [
    "#####Exercise 9: Change the parameters of training. Can you make the model overfit?"
   ]
  },
  {
   "cell_type": "markdown",
   "metadata": {
    "collapsed": true
   },
   "source": [
    "##Writing a dropout layer\n",
    "Dropout is a way of preventing neural networks to overfit, by setting a random number of unit activations to zero in each layer given a probability. So if a random number is greater than the dropout probability, the activation of the unit is zero. For more info, please have a look at this <a href=https://youtu.be/UcKPdAM8cnI>video</a>.\n",
    "\n",
    "#####Excercise 10: Continue writing the dropout layer, following the template given below."
   ]
  },
  {
   "cell_type": "code",
   "execution_count": null,
   "metadata": {
    "collapsed": true
   },
   "outputs": [],
   "source": [
    "class DropoutLayer():\n",
    "    def __str__(self): \n",
    "        return \"Dropout(%f)\" % self.p\n",
    "    \n",
    "    def __init__(self, p=0.5):\n",
    "        self.p = p\n",
    "\n",
    "    def fprop(self, x, train=True):\n",
    "        if train:\n",
    "            # TODO: Write the code in the if-statement.\n",
    "            raise NotImplemented()\n",
    "        else:\n",
    "            return x\n",
    "\n",
    "    def bprop(self, delta_in):\n",
    "        delta_out = delta_in*self.a\n",
    "        return delta_out\n",
    "\n",
    "    def update_params(self, lr):\n",
    "        pass"
   ]
  },
  {
   "cell_type": "markdown",
   "metadata": {},
   "source": [
    "#####Exercise 11: Add dropout layers to the architecture from exercise 11, and evaluate the progression of the training. Is the model overfitting?"
   ]
  },
  {
   "cell_type": "markdown",
   "metadata": {},
   "source": [
    "# Writing a feed-forward neural network in Theano\n",
    "Theano is a Python library enabling the optimization and evaluation of mathematical expressions at decent speeds, especially by utilizing the GPU. One of the most helpful features in Theano is the ability to automatically calculate <a href=\"http://deeplearning.net/software/theano/tutorial/gradients.html\">gradients</a>. This will be obvious in the following example. Please visit the <a href='http://deeplearning.net/software/theano/introduction.html'>Theano tutorial</a> for an in-debt walkthrough. "
   ]
  },
  {
   "cell_type": "code",
   "execution_count": 4,
   "metadata": {
    "collapsed": true
   },
   "outputs": [],
   "source": [
    "import theano\n",
    "import theano.tensor as T # Theano subpackage where many useful symbols are included."
   ]
  },
  {
   "cell_type": "markdown",
   "metadata": {},
   "source": [
    "<a href='http://lasagne.readthedocs.org/en/latest/'>Lasagne</a> is a Python library build on Theano to ease the implementation of deep learning. Many of the frequently used layers are already implemented together with the activation functions, loss functions and optimization algorithms. "
   ]
  },
  {
   "cell_type": "code",
   "execution_count": 5,
   "metadata": {
    "collapsed": true
   },
   "outputs": [],
   "source": [
    "import lasagne\n",
    "import numpy as np\n",
    "from lasagne.layers import InputLayer, DenseLayer, get_output, get_all_params\n",
    "from lasagne.init import Normal, Constant\n",
    "from lasagne.nonlinearities import rectify, softmax"
   ]
  },
  {
   "cell_type": "markdown",
   "metadata": {},
   "source": [
    "In lasagne a basic feed-forward neural network consists of an input layer and a dense layer. The dense layer contains both the linear and the activation layer. Following you will see how simple it is to define a network similar to the one above."
   ]
  },
  {
   "cell_type": "code",
   "execution_count": 6,
   "metadata": {
    "collapsed": false
   },
   "outputs": [],
   "source": [
    "batch_size = 100\n",
    "num_class = 10\n",
    "learning_rate = 0.1\n",
    "\n",
    "data = np.load('mnist.npz')\n",
    "num_classes = 10\n",
    "x_train = data['X_train'].astype('float32')\n",
    "targets_train = data['y_train'].astype('int32')\n",
    "\n",
    "x_valid = data['X_valid'].astype('float32')\n",
    "targets_valid = data['y_valid'].astype('int32')\n",
    "\n",
    "x_test = data['X_test'].astype('float32')\n",
    "targets_test = data['y_test'].astype('int32')\n"
   ]
  },
  {
   "cell_type": "code",
   "execution_count": 8,
   "metadata": {
    "collapsed": false
   },
   "outputs": [],
   "source": [
    "l_in = InputLayer(shape=(batch_size, x_train.shape[1]))\n",
    "l_hid = DenseLayer(incoming=l_in, num_units=500, nonlinearity=rectify)\n",
    "l_out = DenseLayer(incoming=l_hid, num_units=10, nonlinearity=softmax)"
   ]
  },
  {
   "cell_type": "markdown",
   "metadata": {},
   "source": [
    "Now we will import the cross entropy loss and the stochastic gradient descent update function."
   ]
  },
  {
   "cell_type": "code",
   "execution_count": 9,
   "metadata": {
    "collapsed": true
   },
   "outputs": [],
   "source": [
    "from lasagne.objectives import categorical_crossentropy\n",
    "from lasagne.updates import sgd"
   ]
  },
  {
   "cell_type": "markdown",
   "metadata": {},
   "source": [
    "We can now define the loss and update functions as Theano expressions. In order to do so we must define the <a href='http://deeplearning.net/software/theano/library/tensor/basic.html'>symbolic variables</a> that will take on the values of a batch during training."
   ]
  },
  {
   "cell_type": "code",
   "execution_count": 10,
   "metadata": {
    "collapsed": false
   },
   "outputs": [],
   "source": [
    "sym_x = T.matrix('sym_x') # a symbolic variable taking on the value of a input batch.\n",
    "sym_t = T.ivector('sym_t') # a symbolic variable taking on the value of the target batch.\n",
    "\n",
    "# Get network output\n",
    "train_out = lasagne.layers.get_output(l_out, sym_x, deterministic=False)\n",
    "eval_out = lasagne.layers.get_output(l_out, sym_x, deterministic=True)\n",
    "\n",
    "\n",
    "# Get list of all trainable parameters in the network.\n",
    "all_params = lasagne.layers.get_all_params(l_out, trainable=True)\n",
    "\n",
    "cost = T.nnet.categorical_crossentropy(train_out+1e-8, sym_t).mean()\n",
    "# Let Theano do its magic and get all the gradients we need for training\n",
    "all_grads = T.grad(cost, all_params)\n",
    "\n",
    "\n",
    "# Set the update function for parameters \n",
    "# you might wan't to experiment with more advanded update schemes like rmsprob, adadelta etc.\n",
    "updates = lasagne.updates.sgd(all_grads, all_params, learning_rate=learning_rate)\n",
    "\n",
    "\n",
    "\n",
    "\n",
    "f_eval = theano.function([sym_x],\n",
    "                     eval_out, on_unused_input='warn')\n",
    "\n",
    "f_train = theano.function([sym_x, sym_t],\n",
    "                          [cost],\n",
    "                          updates=updates, on_unused_input='warn')\n"
   ]
  },
  {
   "cell_type": "markdown",
   "metadata": {},
   "source": [
    "Now we can use the power of Theano to implement the train, validation, and test functions."
   ]
  },
  {
   "cell_type": "code",
   "execution_count": 11,
   "metadata": {
    "collapsed": false
   },
   "outputs": [
    {
     "name": "stdout",
     "output_type": "stream",
     "text": [
      "('l_out', (45, 10))\n"
     ]
    }
   ],
   "source": [
    "    #Test the forward pass\n",
    "    x = np.random.normal(0,1, (45, 28*28)).astype('float32') #dummy data\n",
    "    \n",
    "    model = lasagne.layers.get_output(l_out, sym_x)\n",
    "    out = model.eval({sym_x:x}) #this could also include mask etc if used\n",
    "    print(\"l_out\", out.shape)"
   ]
  },
  {
   "cell_type": "markdown",
   "metadata": {},
   "source": [
    "Implementing the training loop is done simply by the following code snippet."
   ]
  },
  {
   "cell_type": "code",
   "execution_count": null,
   "metadata": {
    "collapsed": true
   },
   "outputs": [],
   "source": [
    "from confusionmatrix import ConfusionMatrix\n",
    "batch_size = 100\n",
    "num_epochs = 10\n",
    "learning_rate = 0.1\n",
    "num_samples_train = x_train.shape[0]\n",
    "num_batches_train = num_samples_train // batch_size\n",
    "num_samples_valid = x_valid.shape[0]\n",
    "num_batches_valid = num_samples_valid // batch_size\n",
    "\n",
    "train_acc, train_loss = [], []\n",
    "valid_acc, valid_loss = [], []\n",
    "test_acc, test_loss = [], []\n",
    "cur_loss = 0\n",
    "loss = []\n",
    "for epoch in range(num_epochs):\n",
    "    #Forward->Backprob->Update params\n",
    "    cur_loss = 0\n",
    "    for i in range(num_batches_train):\n",
    "        idx = range(i*batch_size, (i+1)*batch_size)\n",
    "        x_batch = x_train[idx]\n",
    "        target_batch = targets_train[idx]    \n",
    "        batch_loss = f_train(x_batch,target_batch) #this will do the complete backprob pass\n",
    "        cur_loss += batch_loss[0]\n",
    "    loss += [cur_loss/batch_size]\n",
    "    \n",
    "    confusion_valid = ConfusionMatrix(num_classes)\n",
    "    confusion_train = ConfusionMatrix(num_classes)\n",
    "\n",
    "    for i in range(num_batches_train):\n",
    "        idx = range(i*batch_size, (i+1)*batch_size)\n",
    "        x_batch = x_train[idx]\n",
    "        targets_batch = targets_train[idx]\n",
    "        net_out = f_eval(x_batch)   \n",
    "        preds = np.argmax(net_out, axis=-1) \n",
    "        confusion_train.batch_add(targets_batch, preds)\n",
    "\n",
    "    confusion_valid = ConfusionMatrix(num_classes)\n",
    "    for i in range(num_batches_valid):\n",
    "        idx = range(i*batch_size, (i+1)*batch_size)\n",
    "        x_batch = x_valid[idx]\n",
    "        targets_batch = targets_valid[idx]\n",
    "        net_out = f_eval(x_batch)   \n",
    "        preds = np.argmax(net_out, axis=-1) \n",
    "        \n",
    "        confusion_valid.batch_add(targets_batch, preds)\n",
    "    \n",
    "    train_acc_cur = confusion_train.accuracy()\n",
    "    valid_acc_cur = confusion_valid.accuracy()\n",
    "\n",
    "    \n",
    "    print \"Epoch %i : Train Loss %e , Train acc %f,  Valid acc %f \" \\\n",
    "    % (epoch+1, loss[-1], train_acc_cur, valid_acc_cur)"
   ]
  },
  {
   "cell_type": "markdown",
   "metadata": {},
   "source": [
    "#####Exercise 12: Implement the training loop from exercise 7 in Theano and lasagne."
   ]
  },
  {
   "cell_type": "code",
   "execution_count": null,
   "metadata": {
    "collapsed": true
   },
   "outputs": [],
   "source": [
    "class FeedforwardNetwork():\n",
    "    def __init__(self):\n",
    "        self.layers = []\n",
    "        \n",
    "    def __str__(self):\n",
    "        if len(self.layers) > 0:\n",
    "            s = \"input \"\n",
    "            for l in self.layers:\n",
    "                s += \" --> \" + str(l) \n",
    "            s += \" --> output\"\n",
    "        else:\n",
    "            s = \"No Layers\"\n",
    "        return s\n",
    "        \n",
    "    def add(self, layer):\n",
    "        self.layers += [layer]\n",
    "\n",
    "    def forward(self, x, train=True):\n",
    "        for layer in self.layers:\n",
    "            x = layer.fprop(x, train=train)\n",
    "        return x\n",
    "\n",
    "    def backward(self, delta):\n",
    "        for layer in reversed(self.layers):\n",
    "            delta = layer.bprop(delta)\n",
    "    \n",
    "    def update(self, lr):\n",
    "        for layer in self.layers:\n",
    "            layer.update_params(lr)"
   ]
  },
  {
   "cell_type": "code",
   "execution_count": null,
   "metadata": {
    "collapsed": true
   },
   "outputs": [],
   "source": [
    "ffn = FeedforwardNetwork()\n",
    "\n",
    "ffn.add(LinearLayer(num_inputs, num_hidden_units))\n",
    "ffn.add(ReluActivationLayer())\n",
    "ffn.add(LinearLayer(num_hidden_units, num_classes))\n",
    "ffn.add(SoftmaxActivationLayer())\n",
    "losslayer = CrossEntropyLoss()\n",
    "\n",
    "print \"Network\"\n",
    "print ffn\n",
    "print \"Loss\", losslayer\n",
    "print \"\"\n",
    "\n",
    "\n",
    "acc = []\n",
    "for epoch in range(num_epochs):\n",
    "    confusion = ConfusionMatrix(num_classes)\n",
    "    for i in range(num_batches):\n",
    "        idx = range(i*batch_size, (i+1)*batch_size)\n",
    "        x_batch = x_train[idx]\n",
    "        target_batch = targets_train[idx]\n",
    "\n",
    "        y_probs =  ffn.forward(x_batch)\n",
    "        loss = losslayer.fprop(y_probs, target_batch)\n",
    "        delta = losslayer.bprop(y_probs, target_batch)\n",
    "        ffn.backward(delta)\n",
    "        ffn.update(learning_rate)\n",
    "        confusion.batch_add(target_batch.argmax(-1), y_probs.argmax(-1))\n",
    "    curr_acc = confusion.accuracy()\n",
    "    print \"Epoch %i : Loss %f Train acc %f\" % (epoch, loss, curr_acc)\n",
    "    acc += [curr_acc]"
   ]
  }
 ],
 "metadata": {
  "kernelspec": {
   "display_name": "Python 2",
   "language": "python",
   "name": "python2"
  },
  "language_info": {
   "codemirror_mode": {
    "name": "ipython",
    "version": 2
   },
   "file_extension": ".py",
   "mimetype": "text/x-python",
   "name": "python",
   "nbconvert_exporter": "python",
   "pygments_lexer": "ipython2",
   "version": "2.7.10"
  }
 },
 "nbformat": 4,
 "nbformat_minor": 0
}

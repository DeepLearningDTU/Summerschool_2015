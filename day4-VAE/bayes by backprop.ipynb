{
 "cells": [
  {
   "cell_type": "markdown",
   "metadata": {},
   "source": [
    "# Variational Weight Uncertainty\n",
    "\n",
    "In this exercise we'll implement Bayes by Backprop.\n",
    "\n",
    "As background reading it is recommended that you read through the article \"Practical Variational Inference for Neural Networks\", Graves, NIPS 2011:\n",
    "http://papers.nips.cc/paper/4329-practical-variational-inference-for-neural-networks.pdf\n",
    "\n",
    "For the implementation of the model you must read the article \"Weight Uncertainty in Neural networks\", Blundell et al, ICML 2015:\n",
    "http://jmlr.org/proceedings/papers/v37/blundell15.pdf\n",
    "\n",
    "First we are running through some math to understand the variational inference for neural networks."
   ]
  },
  {
   "cell_type": "markdown",
   "metadata": {},
   "source": [
    "## Exercise 1\n",
    "Use Jensen's inequality to show that, if $q(\\theta)\\ne 0$,\n",
    "\n",
    "$\\log p(y|x) \\geq E_{q(\\theta)}\\left[ \\log p(y|x,\\theta)p(\\theta) - \\log q(\\theta) \\right]$"
   ]
  },
  {
   "cell_type": "markdown",
   "metadata": {},
   "source": [
    "###Solution\n",
    "The derivation looks as follows:\n",
    "\n",
    "$\\log p(y|x) =  \\log \\int_{\\theta} p(\\theta, y|x)d\\theta$\n",
    "\t\t\t    \n",
    "$=  \\log \\int_{\\theta} p(y|x,\\theta)p(\\theta)d\\theta$\n",
    "\t\t\t\t\n",
    "$=  \\log \\int_{\\theta} p(y|x,\\theta) p(\\theta)\\frac{q(\\theta)}{q(\\theta)}d\\theta$\n",
    "             \n",
    "$=  $ TODO: Continue... Think about expectations."
   ]
  },
  {
   "cell_type": "markdown",
   "metadata": {},
   "source": [
    "Now we use Jensen's inequality $f(E[X]) \\geq E[f(X)]$ when f is concave ($\\log(x)$ is concave since the second derivative is strictly negative), to push the log into the expectations."
   ]
  },
  {
   "cell_type": "markdown",
   "metadata": {},
   "source": [
    "$\\log p(y|x) =  $ TODO: Finish the proof."
   ]
  },
  {
   "cell_type": "markdown",
   "metadata": {},
   "source": [
    "## Exercise 2\n",
    "Now show that if $q(\\theta)\\ne 0,$\n",
    "\n",
    "where $\\mu$ is the mean vector and $D$ is a diagonal covariance matrix, then\n",
    "\n",
    "$E_{q(\\theta)}\\left[ \\log p(y|x,\\theta)p(\\theta) - \\log q(\\theta) \\right] = E_{\\mathcal{N}(\\epsilon|0,I)}\\left[ \\log p(y|x,\\theta)p(\\theta) - \\log q(\\theta) \\right]$\n",
    "\n"
   ]
  },
  {
   "cell_type": "markdown",
   "metadata": {},
   "source": [
    "###Solution\n",
    "To solve this problem you need to apply the reparameterization trick introduced in: http://arxiv.org/abs/1312.6114 and http://jmlr.org/proceedings/papers/v37/blundell15.pdf. \n",
    "\n",
    "The basic idea is to change the expectation from being over $q(\\theta)$ to be over $p(\\epsilon) \\sim \\mathcal{N}(0,I)$. We assume that the following is true:\n",
    "$\\theta = t(\\theta,\\epsilon)$.\n",
    "\n",
    "Where $t(\\theta,\\epsilon)$ is a deterministic function and $\\epsilon$ is distributed according to some distribution fulfilling: $p(\\epsilon) d \\epsilon = q(\\theta)d\\theta$.\n",
    "\n",
    "From defining $q(\\theta)=t(\\theta,\\epsilon)=\\mathcal{N}(\\mu,\\sigma)$ it follows that,\n",
    "\n",
    "$\\theta \\sim q(\\theta) = t(\\theta,\\epsilon) = \\mu + \\sigma \\epsilon$\n",
    "\n",
    "$\\epsilon \\sim \\mathcal{N}(0,I)$\n",
    "\n",
    "Armed with these facts we perform the calculations:\n",
    "\n",
    "TODO: Perform the calculations."
   ]
  },
  {
   "cell_type": "markdown",
   "metadata": {},
   "source": [
    "## Exercise 3\n",
    "Show that if\n",
    "\n",
    "$p(\\theta) = \\mathcal{N}(\\theta|0,\\sigma^2I)$\n",
    "\n",
    "$q(\\theta) = \\mathcal{N}(\\theta|\\mu,D)$\n",
    "\n",
    "$D = diag(\\left[e^{2d_1},e^{2d_2},...,e^{2d_p}\\right])$\n",
    "\n",
    "$\\mathcal{F}(\\mu,D)=\\mathbb{E}_{q(\\theta)} \\left[  \\log p(x|\\theta) p(\\theta) - \\log q(\\theta) \\right]$\n",
    "\n",
    "Then if $\\theta = \\mu + D^{\\frac{1}{2}}\\epsilon$\n",
    "\n",
    "$\\frac{\\partial \\mathcal{F}(\\mu,D)}{\\partial \\mu_i} = E_{\\mathcal{N}(\\epsilon|0,I)}\\left[ \\frac{\\partial logp(y|x,\\theta)}{\\partial \\theta} + \\frac{\\partial logp(\\theta)}{\\partial \\theta} - \\frac{\\partial logq(\\theta)}{\\partial \\theta} \\right]$\n",
    "\n",
    "$\\frac{\\partial \\mathcal{F}(\\mu,D)}{\\partial d_i} = E_{\\mathcal{N}(\\epsilon|0,I)}\\left[ (\\frac{\\partial logp(y|x,\\theta)}{\\partial \\theta} + \\frac{\\partial logp(\\theta)}{\\partial \\theta} - \\frac{\\partial logq(\\theta)}{\\partial \\theta})e^{d_i} \\epsilon_i \\right]$"
   ]
  },
  {
   "cell_type": "markdown",
   "metadata": {},
   "source": [
    "###Solution\n",
    "In exercise 2 we showed that we could change from expectations over $q(\\theta)$ to $p(\\theta)$:\n",
    "\n",
    "$\\frac{\\partial}{\\partial\\theta}\\mathbb{E}_{q(\\theta)} \\left[  \\log p(y|x,\\theta) p(\\theta) - \\log q(\\theta) \\right]$\n",
    "\n",
    "$= \\frac{\\partial}{\\partial\\theta}\\mathbb{E}_{p(\\epsilon)} \\left[ \\log p(y|x,\\theta) p(\\theta) - \\log q(\\theta)\\right]$ \n",
    "\n",
    "$= \\mathbb{E}_{p(\\epsilon)} \\left[ \\frac{\\partial}{\\partial\\theta}\\log p(y|x,\\theta)+ \\frac{\\partial}{\\partial\\theta}p(\\theta) - \\frac{\\partial}{\\partial\\theta}\\log q(\\theta)  \\right]$\n",
    "\n",
    "Now we use the chain rule of derivatives, $\\frac{\\partial\\theta}{\\partial\\mu_i} = 1$ and $\\frac{\\partial\\theta}{\\partial d_i} = e^{d_i}\\epsilon_i$ to show that:\n",
    "\n",
    "$\\theta = \\mu + D^{1/2} \\epsilon = diag([e^{2d_1},e^{2d_2}\\dots,^{2d_p}])$\n",
    "\n",
    "$\\frac{\\partial \\mathcal{F}}{\\partial\\mu_i} = $ TODO: Apply the chain rule.\n",
    "\n",
    "$\\frac{\\partial \\mathcal{F}}{\\partial d_i} = $ TODO: Apply the chain rule."
   ]
  },
  {
   "cell_type": "markdown",
   "metadata": {},
   "source": [
    "## Exercise 4\n",
    "What is the fewest number of times backpropagation be run to compute unbiased estimates both $\\frac{\\partial \\mathcal{F}(\\mu,D)}{\\partial \\mu_i}$ and $\\frac{\\partial \\mathcal{F}(\\mu,D)}{\\partial d_i}$?"
   ]
  },
  {
   "cell_type": "markdown",
   "metadata": {},
   "source": [
    "###Solution\n",
    "How many samples do you need to make a monte carlo integral?"
   ]
  },
  {
   "cell_type": "code",
   "execution_count": 10,
   "metadata": {
    "collapsed": true
   },
   "outputs": [],
   "source": [
    "import numpy as np\n",
    "import theano\n",
    "theano.config.floatX = 'float32'\n",
    "import theano.tensor as T\n",
    "from lasagne.layers.base import Layer\n",
    "from theano.tensor.shared_randomstreams import RandomStreams\n",
    "from lasagne.nonlinearities import rectify, identity, linear\n",
    "from lasagne.updates import adam, sgd\n",
    "from lasagne.layers import get_all_layers, get_output, get_all_params, InputLayer\n",
    "from lasagne import init\n",
    "import math"
   ]
  },
  {
   "cell_type": "markdown",
   "metadata": {},
   "source": [
    "##Exercise 5\n",
    "Generate a simple regression data set by sampling points from the curve:\n",
    "\n",
    "$y= x+0.3sin(2\\pi(x+v))+0.3sin(4\\pi(x+v))+v$\n",
    "\n",
    "$v\\sim\\mathcal{N}(0,0.02)$"
   ]
  },
  {
   "cell_type": "code",
   "execution_count": 11,
   "metadata": {
    "collapsed": false
   },
   "outputs": [],
   "source": [
    "def _shared_dataset(data_xy, borrow=True):\n",
    "    \"\"\"\n",
    "    Share the dataset for use on the GPU.\n",
    "    :param data_xy: The data set containing a matrix x and y in a tuple.\n",
    "    :param borrow: Refer to the theano docs.\n",
    "    :return: The shared data set.\n",
    "    \"\"\"\n",
    "    data_x, data_y = data_xy\n",
    "    shared_x = theano.shared(np.asarray(data_x, dtype=theano.config.floatX), borrow=borrow)\n",
    "    shared_y = theano.shared(np.asarray(data_y, dtype=theano.config.floatX), borrow=borrow)\n",
    "    return shared_x, shared_y\n",
    "\n",
    "def generate_synthetic_data(dat_size=1.e4):\n",
    "    rng = np.random.RandomState(1234)\n",
    "    x = rng.uniform(0., 1., dat_size).reshape((dat_size, 1))\n",
    "    v = rng.normal(0, 0.02, size=x.shape)\n",
    "    y = # TODO: Write y.\n",
    "    # 90% for training, 10% testing\n",
    "    train_x = x[:len(x)*0.9]\n",
    "    train_y = y[:len(y)*0.9]\n",
    "    test_x = x[len(x)*0.9:]\n",
    "    test_y = y[len(y)*0.9:]\n",
    "    return _shared_dataset((train_x, train_y)), _shared_dataset((test_x, test_y))\n",
    "\n",
    "(train_x, train_t), (test_x, test_t) = generate_synthetic_data(1e4)\n",
    "test_x_unshared = test_x.eval()\n",
    "test_t_unshared = test_t.eval()"
   ]
  },
  {
   "cell_type": "markdown",
   "metadata": {},
   "source": [
    "##Exercise 6\n",
    "Construct a feed forward neural network that represents $p(y|x,\\theta)$ with architecture 1-50-50-1. Run it on the generated data and evaluate the performance."
   ]
  },
  {
   "cell_type": "markdown",
   "metadata": {},
   "source": [
    "##Exercise 7\n",
    "Implement a network for Bayes by Backdrop $p(\\theta)$ and $q(\\theta)$.\n",
    "\n",
    "During training, estimate the loss function $\\mathcal{F}(\\mu,D)$ and likelihood $logp(y|x,\\theta)$."
   ]
  },
  {
   "cell_type": "markdown",
   "metadata": {},
   "source": [
    "Following we'll write the functions for distribution density estimations."
   ]
  },
  {
   "cell_type": "code",
   "execution_count": 12,
   "metadata": {
    "collapsed": false
   },
   "outputs": [],
   "source": [
    "c = - 0.5 * math.log(2*math.pi)\n",
    "def normal(x, mean, sd):\n",
    "    return c - T.log(T.abs_(sd)) - (x - mean)**2 / (2 * sd**2)\n",
    "\n",
    "def normal2(x, mean, logvar):\n",
    "    return c - logvar/2 - (x - mean)**2 / (2 * T.exp(logvar))"
   ]
  },
  {
   "cell_type": "markdown",
   "metadata": {},
   "source": [
    "Construct the lasagne layer."
   ]
  },
  {
   "cell_type": "code",
   "execution_count": 13,
   "metadata": {
    "collapsed": true
   },
   "outputs": [],
   "source": [
    "class BayesBackpropLayer(Layer):\n",
    "\n",
    "    def __init__(self, incoming, num_units, W=init.Normal(0.05), b=init.Normal(0.05), nonlinearity=rectify,\n",
    "                 prior_sd=T.exp(-3), **kwargs):\n",
    "        super(BayesBackpropLayer, self).__init__(incoming, **kwargs)\n",
    "        self._srng = RandomStreams()\n",
    "\n",
    "        self.num_units = num_units\n",
    "        self.num_inputs = int(np.prod(self.input_shape[1:]))\n",
    "        self.nonlinearity = (identity if nonlinearity is None else nonlinearity)\n",
    "        self.prior_sd = prior_sd\n",
    "\n",
    "        self.W = T.zeros((self.num_inputs, num_units))\n",
    "        self.W_mu = self.add_param(W, (self.num_inputs, num_units), name=\"W_mu\")\n",
    "        self.W_logsigma = self.add_param(W, (self.num_inputs, num_units), name=\"W_sigma\")\n",
    "        self.W_params = [self.W, self.W_mu, self.W_logsigma]\n",
    "        self.b = T.zeros((num_units,))\n",
    "        self.b_mu = self.add_param(b, (num_units,))\n",
    "        self.b_logsigma = self.add_param(b, (num_units,))\n",
    "        self.params = [self.W_mu, self.W_logsigma, self.b_mu, self.b_logsigma]\n",
    "\n",
    "    def get_output_shape_for(self, input_shape):\n",
    "        return (input_shape[0], self.num_units)\n",
    "\n",
    "    def get_output_for(self, input, deterministic=False, **kwargs):\n",
    "        if input.ndim > 2:\n",
    "            # if the input has more than two dimensions, flatten it into a\n",
    "            # batch of feature vectors.\n",
    "            input = input.flatten(2)\n",
    "\n",
    "        if deterministic:\n",
    "            activation = T.dot(input, self.W_mu) + self.b_mu.dimshuffle('x', 0)\n",
    "        else:\n",
    "            W = self.get_W()\n",
    "            b = self.get_b()\n",
    "            activation = T.dot(input, W) + b.dimshuffle('x', 0)\n",
    "        return self.nonlinearity(activation)\n",
    "\n",
    "    def get_y_mu_sigma(self, x):\n",
    "        layers = get_all_layers(self)\n",
    "        # output from sampled weights of all layers-1.\n",
    "        z = get_output(layers[-2], x, deterministic=False)\n",
    "        # sampled output of the final layer.\n",
    "        y = self.nonlinearity(T.dot(z, self.get_W()) + self.get_b().dimshuffle('x', 0))\n",
    "        # mean output of the final layer.\n",
    "        y_mu = self.nonlinearity(T.dot(z, self.W_mu) + self.b_mu.dimshuffle('x', 0))\n",
    "        # logsigma output of the final layer.\n",
    "        y_logsigma = self.nonlinearity(T.dot(z, self.W_logsigma) + self.b_logsigma.dimshuffle('x', 0))\n",
    "        return y, y_mu, y_logsigma\n",
    "\n",
    "    def get_log_distributions(self, x, t, n_samples=1):\n",
    "        #TODO: calculate the log distributions.\n",
    "        def one_sample(_x, _t):\n",
    "            y, y_mu, y_logsigma = self.get_y_mu_sigma(_x)\n",
    "            # logP(D|w)\n",
    "            _log_pd_given_w = normal2(_t, y, T.log(self.prior_sd ** 2)).sum()\n",
    "            # logq(w) logp(w)\n",
    "            _log_qw, _log_pw = 0., 0.\n",
    "            layers = get_all_layers(self)[1:]\n",
    "            for layer in layers:\n",
    "                W = layer.W\n",
    "                b = layer.b\n",
    "                _log_qw += normal2(W, layer.W_mu, layer.W_logsigma * 2).sum()\n",
    "                _log_qw += normal2(b, layer.b_mu, layer.b_logsigma * 2).sum()\n",
    "                _log_pw += normal(W, 0., self.prior_sd).sum()\n",
    "                _log_pw += normal(b, 0., self.prior_sd).sum()\n",
    "            return _log_qw, _log_pw, _log_pd_given_w\n",
    "\n",
    "        log_qw, log_pw, log_pd_given_w = 0., 0., 0.\n",
    "        for i in range(n_samples):\n",
    "            log_qw_temp, log_pw_tmp, log_pd_given_w_tmp = one_sample(x, t)\n",
    "            log_qw += log_qw_temp\n",
    "            log_pw += log_pw_tmp\n",
    "            log_pd_given_w += log_pd_given_w_tmp\n",
    "\n",
    "        log_qw /= n_samples\n",
    "        log_pw /= n_samples\n",
    "        log_pd_given_w /= n_samples\n",
    "        return log_qw, log_pw, log_pd_given_w\n",
    "\n",
    "    def get_params(self):\n",
    "        return self.params\n",
    "\n",
    "    def get_W(self):\n",
    "        # TODO: Sample the weights and return.\n",
    "        W = T.zeros(self.W_mu.shape)\n",
    "        eps = # Sample the epsilon.\n",
    "        W += # Recall the reparameterization trick.\n",
    "        self.W = W\n",
    "        return W\n",
    "\n",
    "    def get_b(self):\n",
    "        # TODO: Sample the bias and return.\n",
    "        b = T.zeros(self.b_mu.shape)\n",
    "        eps = # Sample the epsilon.\n",
    "        b += # Recall the reparameterization trick.\n",
    "        self.b = b\n",
    "        return b"
   ]
  },
  {
   "cell_type": "markdown",
   "metadata": {},
   "source": [
    "Define the model class."
   ]
  },
  {
   "cell_type": "code",
   "execution_count": 14,
   "metadata": {
    "collapsed": true
   },
   "outputs": [],
   "source": [
    "class VNN:\n",
    "    def __init__(self, n_in, n_hidden, n_out, trans_func=rectify, out_func=linear, W=init.Normal(0.05),\n",
    "                 b=init.Normal(0.05), batch_size=100, n_samples=10, prior_sd=T.exp(-3)):\n",
    "        self.n_in = n_in\n",
    "        self.n_hidden = n_hidden\n",
    "        self.n_out = n_out\n",
    "        self.batch_size = batch_size\n",
    "        self.transf = trans_func\n",
    "        self.outf = out_func\n",
    "        self.n_samples = n_samples\n",
    "        self.l_in = InputLayer(shape=(batch_size,n_in))\n",
    "\n",
    "        # Define the model\n",
    "        l_prev = self.l_in\n",
    "        for n_hid in n_hidden:\n",
    "            l_tmp = BayesBackpropLayer(l_prev, num_units=n_hid, W=W, b=b, nonlinearity=self.transf, prior_sd=prior_sd)\n",
    "            l_prev = l_tmp\n",
    "        self.model = BayesBackpropLayer(l_prev, num_units=n_out, nonlinearity=self.outf)\n",
    "        self.x = T.matrix('x')\n",
    "        self.t = T.matrix('t')\n",
    "\n",
    "    def build_model(self, train_x, train_t, test_x, test_t, update, update_args):\n",
    "        self.train_x = train_x\n",
    "        self.train_t = train_t\n",
    "        self.test_x = test_x\n",
    "        self.test_t = test_t\n",
    "        self.update = update\n",
    "        self.update_args = update_args\n",
    "        self.index = T.iscalar('index')\n",
    "        self.batch_slice = slice(self.index * self.batch_size, (self.index + 1) * self.batch_size)\n",
    "\n",
    "        log_qw, log_pw, log_pd_given_w = self.model.get_log_distributions(self.x, self.t, self.n_samples)\n",
    "\n",
    "        n_tot = self.train_x.shape[0].astype(theano.config.floatX)\n",
    "        n_batches = n_tot / self.batch_size\n",
    "        \n",
    "        # TODO: Calculate the loss function. Remember to scale the weight difference by the batchsize.\n",
    "        loss = ???\n",
    "\n",
    "        all_params = get_all_params(self.model)\n",
    "        updates = self.update(loss, all_params, *self.update_args)\n",
    "\n",
    "        train_model = theano.function(\n",
    "            [self.index], loss,\n",
    "            updates=updates,\n",
    "            givens={\n",
    "                self.x: self.train_x[self.batch_slice],\n",
    "                self.t: self.train_t[self.batch_slice],\n",
    "            },\n",
    "        )\n",
    "\n",
    "        test_model = theano.function(\n",
    "            [self.index], loss,\n",
    "            givens={\n",
    "                self.x: self.test_x[self.batch_slice],\n",
    "                self.t: self.test_t[self.batch_slice],\n",
    "            },\n",
    "        )\n",
    "\n",
    "        return train_model, test_model\n",
    "\n",
    "    def get_output(self, dat, deterministic=False):\n",
    "        return get_output(self.model, dat, deterministic=deterministic)"
   ]
  },
  {
   "cell_type": "markdown",
   "metadata": {},
   "source": [
    "Run the network. Try to sample the weights multiple times and evaluate the difference."
   ]
  },
  {
   "cell_type": "code",
   "execution_count": null,
   "metadata": {
    "collapsed": false
   },
   "outputs": [],
   "source": [
    "import time\n",
    "batch_size = 100\n",
    "n_epochs = 100\n",
    "eval_train = {}\n",
    "eval_test = {}\n",
    "\n",
    "model = VNN(1, [50, 50], 1, trans_func=rectify, out_func=linear, batch_size=batch_size, n_samples=5)\n",
    "train_model, test_model = model.build_model(train_x, train_t, test_x, test_t, adam, update_args=(0.001,))\n",
    "n_train_batches = train_x.get_value(borrow=True).shape[0] / batch_size\n",
    "n_test_batches = test_x.get_value(borrow=True).shape[0] / batch_size\n",
    "\n",
    "\n",
    "done_looping = False\n",
    "epoch = 0\n",
    "for epoch in range(n_epochs):\n",
    "    start_time = time.time()\n",
    "    epoch += 1\n",
    "    avg_costs = []\n",
    "    for minibatch_index in xrange(n_train_batches):\n",
    "        minibatch_avg_cost = train_model(minibatch_index)\n",
    "        avg_costs.append(minibatch_avg_cost)\n",
    "    eval_train[epoch] = np.mean(avg_costs)\n",
    "    test_losses = [test_model(i) for i in xrange(n_test_batches)]\n",
    "\n",
    "    eval_test[epoch] = np.mean(test_losses)\n",
    "\n",
    "    end_time = time.time() - start_time\n",
    "    print \"[epoch,time,train,test];%i;%.2f;%.10f;%.10f\" % (epoch, end_time, eval_train[epoch], eval_test[epoch])"
   ]
  },
  {
   "cell_type": "code",
   "execution_count": 41,
   "metadata": {
    "collapsed": false
   },
   "outputs": [
    {
     "data": {
      "image/png": "[encoded data removed]",
      "text/plain": [
       "<matplotlib.figure.Figure at 0x11b6b72d0>"
      ]
     },
     "metadata": {},
     "output_type": "display_data"
    },
    {
     "data": {
      "image/png": "[encoded data removed]",
      "text/plain": [
       "<matplotlib.figure.Figure at 0x10f3b5f90>"
      ]
     },
     "metadata": {},
     "output_type": "display_data"
    }
   ],
   "source": [
    "import math\n",
    "import matplotlib.pyplot as plt\n",
    "import matplotlib\n",
    "%matplotlib inline\n",
    "import time\n",
    "\n",
    "fig = plt.figure()\n",
    "plt.plot(eval_train.keys(), eval_train.values(), label='training data')\n",
    "plt.plot(eval_test.keys(), eval_test.values(), label='testing data')\n",
    "plt.legend()\n",
    "plt.ylabel(\"Loss\")\n",
    "plt.xlabel('Epochs')\n",
    "plt.show()\n",
    "\n",
    "y = model.get_output(test_x, deterministic=False).eval()\n",
    "fig = plt.figure()\n",
    "plt.scatter(np.array(test_x_unshared), np.array(test_t_unshared), label=\"t\", color=(1.0,0,0,0.2))\n",
    "plt.scatter(np.array(test_x_unshared), np.array(y), label=\"y\", color=(0,0.7,0,0.1))\n",
    "plt.legend()\n",
    "plt.show()"
   ]
  }
 ],
 "metadata": {
  "kernelspec": {
   "display_name": "Python 2",
   "language": "python",
   "name": "python2"
  },
  "language_info": {
   "codemirror_mode": {
    "name": "ipython",
    "version": 2
   },
   "file_extension": ".py",
   "mimetype": "text/x-python",
   "name": "python",
   "nbconvert_exporter": "python",
   "pygments_lexer": "ipython2",
   "version": "2.7.10"
  }
 },
 "nbformat": 4,
 "nbformat_minor": 0
}

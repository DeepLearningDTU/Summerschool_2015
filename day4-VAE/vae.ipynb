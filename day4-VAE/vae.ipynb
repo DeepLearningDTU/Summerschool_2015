{
 "cells": [
  {
   "cell_type": "markdown",
   "metadata": {},
   "source": [
    "# Variational Autoencoders\n",
    "\n",
    "In this exercise we'll implement autoencoding using variational bayes.\n",
    "\n",
    "As background reading it is recommended that you read through the article \"Stochastic Backpropagation and Approximate Inference in Deep Generative Models\", Rezende et al, ICML 2014:\n",
    "http://arxiv.org/pdf/1401.4082v3.pdf\n",
    "\n",
    "For the implementation of the model you must read the article \"Auto-Encoding Variational Bayes\", Kingma & Welling, ICLR 2014:\n",
    "http://arxiv.org/pdf/1312.6114v10.pdf\n",
    "\n",
    "First we are running through some math to understand the variational inference. Cf. the solutions to the Bayes by Backprop exercise."
   ]
  },
  {
   "cell_type": "markdown",
   "metadata": {},
   "source": [
    "##Exercise 1\n",
    "Use Jensen's inequality to show that, if $q(z|x)\\ne 0$,\n",
    "\n",
    "$\\log p(x) \\geq E_{q(z|x)}\\left[ \\log p(x|z)p(z) - \\log q(z|x) \\right]$"
   ]
  },
  {
   "cell_type": "markdown",
   "metadata": {},
   "source": [
    "##Exercise 2\n",
    "Show that if $\\mu_\\theta(x)$ and $\\sigma_\\phi(x)$ are the encoding neural networks with parameters $\\theta$ and $\\phi$, respectively, taking as input $x$ and\n",
    "\n",
    "$p(z) = \\mathcal{N}(z|0,I)$\n",
    "\n",
    "$q(z|x) = \\mathcal{N}(z|\\mu_\\theta(x), \\sigma_\\phi(x)I)$\n",
    "\n",
    "$F(\\theta, \\phi) = E_{q(z|x)}\\left[ \\log p(x|z)p(z) - \\log q(z|x) \\right]$\n",
    "\n",
    "then\n",
    "\n",
    "$F(\\theta, \\phi) = E_{\\mathcal{N}(\\epsilon|0,I)}\\left[ \\log p(x|z)p(z) - \\log q(z|x) \\right]$\n",
    "\n",
    "$z = \\mu_\\theta(x) + \\sigma_\\phi(x) \\cdot \\epsilon$\n",
    "\n",
    "$\\frac{\\partial z}{\\partial \\theta} = \\frac{\\partial \\mu_\\theta(x)}{\\partial \\theta}$\n",
    "\n",
    "$\\frac{\\partial z}{\\partial \\phi} = \\frac{\\partial \\sigma_\\phi(x)}{\\partial \\phi} \\cdot \\epsilon$"
   ]
  },
  {
   "cell_type": "markdown",
   "metadata": {},
   "source": [
    "## Exercise 3\n",
    "Show that the gradients of the free energy $F(\\theta,\\phi)$ are then:\n",
    "\n",
    "$\\frac{\\partial \\mathcal{F}(\\theta,\\phi)}{\\partial \\theta_i} = E_{\\mathcal{N}(\\epsilon|0,I)}\\left[ \\frac{\\partial logp(x|z)}{\\partial z} + \\frac{\\partial logp(z)}{\\partial z} - \\frac{\\partial logq(z|x)}{\\partial z} \\right]$\n",
    "\n",
    "$\\frac{\\partial \\mathcal{F}(\\theta,\\phi)}{\\partial \\phi_i} = E_{\\mathcal{N}(\\epsilon|0,I)}\\left[ (\\frac{\\partial logp(y|x,\\theta)}{\\partial \\theta} + \\frac{\\partial logp(\\theta)}{\\partial \\theta} - \\frac{\\partial logq(\\theta)}{\\partial \\theta})\\frac{\\partial\\sigma_\\phi(x)}{\\partial \\phi_i}\\epsilon_i \\right]$"
   ]
  },
  {
   "cell_type": "markdown",
   "metadata": {},
   "source": [
    "##Exercise 4\n",
    "Implement a VAE. During training, estimate the loss function and likelihood."
   ]
  },
  {
   "cell_type": "code",
   "execution_count": 1,
   "metadata": {
    "collapsed": true
   },
   "outputs": [],
   "source": [
    "import theano\n",
    "theano.config.floatX = 'float32'\n",
    "import theano.tensor as T\n",
    "from theano.sandbox.rng_mrg import MRG_RandomStreams as RandomStreams\n",
    "from lasagne.nonlinearities import rectify\n",
    "from lasagne.layers.base import Layer\n",
    "from lasagne import init\n",
    "from lasagne.updates import adam\n",
    "from lasagne.layers import InputLayer, get_all_params\n",
    "import numpy as np\n",
    "import lasagne\n",
    "import math"
   ]
  },
  {
   "cell_type": "code",
   "execution_count": 2,
   "metadata": {
    "collapsed": true
   },
   "outputs": [],
   "source": [
    "c = - 0.5 * math.log(2*math.pi)\n",
    "def normal(x, mean, sd):\n",
    "    return c - T.log(T.abs_(sd)) - (x - mean)**2 / (2 * sd**2)\n",
    "\n",
    "def normal2(x, mean, logvar):\n",
    "    return c - logvar/2 - (x - mean)**2 / (2 * T.exp(logvar))\n",
    "\n",
    "def standard_normal(x):\n",
    "    return c - x**2 / 2"
   ]
  },
  {
   "cell_type": "markdown",
   "metadata": {},
   "source": [
    "Construct the lasagne layer."
   ]
  },
  {
   "cell_type": "code",
   "execution_count": 7,
   "metadata": {
    "collapsed": true
   },
   "outputs": [],
   "source": [
    "class VAELayer(Layer):\n",
    "\n",
    "    def __init__(self, incoming, encoder, decoder,\n",
    "                 x_distribution='bernoulli',\n",
    "                 pz_distribution='gaussian',\n",
    "                 qz_distribution='gaussian',\n",
    "                 latent_size=50,\n",
    "                 W=init.Normal(0.01),\n",
    "                 b=init.Normal(0.01),\n",
    "                 **kwargs):\n",
    "        super(VAELayer, self).__init__(incoming, **kwargs)\n",
    "        num_batch, n_features = self.input_shape\n",
    "        self.num_batch = num_batch\n",
    "        self.n_features = n_features\n",
    "        self.x_distribution = x_distribution\n",
    "        self.pz_distribution = pz_distribution\n",
    "        self.qz_distribution = qz_distribution\n",
    "        self.encoder = encoder\n",
    "        self.decoder = decoder\n",
    "        self._srng = RandomStreams()\n",
    "\n",
    "        if self.x_distribution not in ['gaussian', 'bernoulli']:\n",
    "            raise NotImplementedError\n",
    "        if self.pz_distribution not in ['gaussian', 'gaussianmarg']:\n",
    "            raise NotImplementedError\n",
    "        if self.qz_distribution not in ['gaussian', 'gaussianmarg']:\n",
    "            raise NotImplementedError\n",
    "\n",
    "        self.params_encoder = lasagne.layers.get_all_params(encoder)\n",
    "        self.params_decoder = lasagne.layers.get_all_params(decoder)\n",
    "        for p in self.params_encoder:\n",
    "            p.name = \"VAELayer encoder :\" + p.name\n",
    "        for p in self.params_decoder:\n",
    "            p.name = \"VAELayer decoder :\" + p.name\n",
    "\n",
    "        self.num_hid_enc = encoder.output_shape[1]\n",
    "        self.num_hid_dec = decoder.output_shape[1]\n",
    "        self.latent_size = latent_size\n",
    "\n",
    "        self.W_enc_to_z_mu = self.add_param(W, (self.num_hid_enc, latent_size))\n",
    "        self.b_enc_to_z_mu = self.add_param(b, (latent_size,))\n",
    "        \n",
    "        # when we denote logsima we are ref. to logvar\n",
    "        self.W_enc_to_z_logsigma = self.add_param(W, (self.num_hid_enc, self.latent_size))\n",
    "        self.b_enc_to_z_logsigma = self.add_param(b, (latent_size,))\n",
    "\n",
    "        self.W_dec_to_x_mu = self.add_param(W, (self.num_hid_dec, self.n_features))\n",
    "        self.b_dec_to_x_mu = self.add_param(b, (self.n_features,))\n",
    "\n",
    "        self.W_params = [self.W_enc_to_z_mu,\n",
    "                         self.W_enc_to_z_logsigma,\n",
    "                         self.W_dec_to_x_mu] + self.params_encoder + self.params_decoder\n",
    "        self.bias_params = [self.b_enc_to_z_mu,\n",
    "                            self.b_enc_to_z_logsigma,\n",
    "                            self.b_dec_to_x_mu]\n",
    "\n",
    "        params_tmp = []\n",
    "        if self.x_distribution == 'gaussian':\n",
    "            self.W_dec_to_x_logsigma = self.add_param(W, (self.num_hid_dec, self.n_features))\n",
    "            self.b_dec_to_x_logsigma = self.add_param(b, (self.n_features,))\n",
    "            self.W_params += [self.W_dec_to_x_logsigma]\n",
    "            self.bias_params += [self.b_dec_to_x_logsigma]\n",
    "            self.W_dec_to_x_logsigma.name = \"VAE: W_dec_to_x_logsigma\"\n",
    "            self.b_dec_to_x_logsigma.name = \"VAE: b_dec_to_x_logsigma\"\n",
    "            params_tmp = [self.W_dec_to_x_logsigma, self.b_dec_to_x_logsigma]\n",
    "\n",
    "        self.params = self.params_encoder + [self.W_enc_to_z_mu,\n",
    "                                             self.b_enc_to_z_mu,\n",
    "                                             self.W_enc_to_z_logsigma,\n",
    "                                             self.b_enc_to_z_logsigma] + self.params_decoder + \\\n",
    "                      [self.W_dec_to_x_mu, self.b_dec_to_x_mu] + params_tmp\n",
    "\n",
    "        self.W_enc_to_z_mu.name = \"VAELayer: W_enc_to_z_mu\"\n",
    "        self.W_enc_to_z_logsigma.name = \"VAELayer: W_enc_to_z_logsigma\"\n",
    "        self.W_dec_to_x_mu.name = \"VAELayer: W_dec_to_x_mu\"\n",
    "        self.b_enc_to_z_mu.name = \"VAELayer: b_enc_to_z_mu\"\n",
    "        self.b_enc_to_z_logsigma.name = \"VAELayer: b_enc_to_z_logsigma\"\n",
    "        self.b_dec_to_x_mu.name = \"VAELayer: b_dec_to_x_mu\"\n",
    "\n",
    "    def get_params(self):\n",
    "        return self.params\n",
    "\n",
    "    def get_output_shape_for(self, input_shape):\n",
    "        dec_out_shp = self.decoder.get_output_shape_for(\n",
    "            (self.num_batch, self.num_hid_dec))\n",
    "        if self.x_distribution == 'bernoulli':\n",
    "            return dec_out_shp\n",
    "        elif self.x_distribution == 'gaussian':\n",
    "            return [dec_out_shp, dec_out_shp]\n",
    "\n",
    "    def _encoder_output(self, x, *args, **kwargs):\n",
    "        return lasagne.layers.get_output(self.encoder, x, **kwargs)\n",
    "\n",
    "    def decoder_output(self, z, *args, **kwargs):\n",
    "        h_decoder = lasagne.layers.get_output(self.decoder, z, **kwargs)\n",
    "        if self.x_distribution == 'gaussian':\n",
    "            mu_decoder = T.dot(h_decoder, self.W_dec_to_x_mu) + self.b_dec_to_x_mu\n",
    "            log_sigma_decoder = T.dot(h_decoder, self.W_dec_to_x_logsigma) + self.b_dec_to_x_logsigma\n",
    "            decoder_out = mu_decoder, log_sigma_decoder\n",
    "        elif self.x_distribution == 'bernoulli':\n",
    "            # TODO: Finish writing the output of the decoder for a bernoulli distributed x.\n",
    "            decoder_out = T.nnet.sigmoid(T.dot(h_decoder, self.W_dec_to_x_mu) + self.b_dec_to_x_mu)\n",
    "        else:\n",
    "            raise NotImplementedError\n",
    "        return decoder_out\n",
    "\n",
    "    def get_z_mu_sigma(self, x, *args, **kwargs):\n",
    "        h_encoder = self._encoder_output(x, *args, **kwargs)\n",
    "        mu_encoder = T.dot(h_encoder, self.W_enc_to_z_mu) + self.b_enc_to_z_mu\n",
    "        log_sigma_encoder = (T.dot(h_encoder, self.W_enc_to_z_logsigma) +\n",
    "                             self.b_enc_to_z_logsigma)\n",
    "        eps = self._srng.normal(log_sigma_encoder.shape)\n",
    "        # TODO: Calculate the sampled z. \n",
    "        z = #Recall the reparameterization trick.\n",
    "        return z, mu_encoder, log_sigma_encoder\n",
    "\n",
    "    def get_log_distributions(self, x, *args, **kwargs):\n",
    "        # sample z from q(z|x).\n",
    "        h_encoder = self._encoder_output(x, *args, **kwargs)\n",
    "        mu_encoder = T.dot(h_encoder, self.W_enc_to_z_mu) + self.b_enc_to_z_mu\n",
    "        log_sigma_encoder = (T.dot(h_encoder, self.W_enc_to_z_logsigma) +\n",
    "                             self.b_enc_to_z_logsigma)\n",
    "        eps = self._srng.normal(log_sigma_encoder.shape)\n",
    "        z = mu_encoder + T.exp(0.5 * log_sigma_encoder) * eps\n",
    "\n",
    "        # forward pass z through decoder to generate p(x|z).\n",
    "        decoder_out = self.decoder_output(z, *args, **kwargs)\n",
    "        if self.x_distribution == 'bernoulli':\n",
    "            x_mu = decoder_out\n",
    "            log_px_given_z = # TODO: Calculate logp(x|z).\n",
    "        elif self.x_distribution == 'gaussian':\n",
    "            x_mu, x_logsigma = decoder_out\n",
    "            log_px_given_z = # TODO: Calculate logp(x|z).\n",
    "\n",
    "        # sample prior distribution p(z).\n",
    "        if self.pz_distribution == 'gaussian':\n",
    "            log_pz = # TODO: Calculate logp(z).\n",
    "        elif self.pz_distribution == 'gaussianmarg':\n",
    "            log_pz = # TODO: Calculate logp(z).\n",
    "\n",
    "        # variational approximation distribution q(z|x)\n",
    "        if self.qz_distribution == 'gaussian':\n",
    "            log_qz_given_x = # TODO: Calculate logp(z|x).\n",
    "        elif self.qz_distribution == 'gaussianmarg':\n",
    "            log_qz_given_x = # TODO: Calculate logp(z|x).\n",
    "\n",
    "        # sum over dim 1 to get shape (,batch_size)\n",
    "        log_px_given_z = log_px_given_z.sum(axis=1, dtype=theano.config.floatX)  # sum over x\n",
    "        log_pz = log_pz.sum(axis=1, dtype=theano.config.floatX)  # sum over latent vars\n",
    "        log_qz_given_x = log_qz_given_x.sum(axis=1, dtype=theano.config.floatX)  # sum over latent vars\n",
    "\n",
    "        return log_pz, log_qz_given_x, log_px_given_z\n",
    "\n",
    "    def draw_sample(self, z=None, *args, **kwargs):\n",
    "        if z is None:  # draw random z\n",
    "            z = self._srng.normal((self.num_batch, self.latent_size))\n",
    "        return self.decoder_output(z, *args, **kwargs)"
   ]
  },
  {
   "cell_type": "markdown",
   "metadata": {},
   "source": [
    "Construct the model class."
   ]
  },
  {
   "cell_type": "code",
   "execution_count": 8,
   "metadata": {
    "collapsed": true
   },
   "outputs": [],
   "source": [
    "class VAE:\n",
    "    def __init__(self, n_in, n_hidden, n_out, n_hidden_decoder=None, trans_func=rectify, batch_size=100):\n",
    "        self.n_in = n_in\n",
    "        self.n_hidden = n_hidden\n",
    "        self.n_out = n_out\n",
    "        self.batch_size = batch_size\n",
    "        self.transf = trans_func\n",
    "        self.l_in = InputLayer(shape=(batch_size,n_in))\n",
    "\n",
    "        self.srng = RandomStreams()\n",
    "\n",
    "        l_in_encoder = lasagne.layers.InputLayer(shape=(batch_size, n_in))\n",
    "        l_in_decoder = lasagne.layers.InputLayer(shape=(batch_size, n_out))\n",
    "        l_prev_encoder = l_in_encoder\n",
    "        l_prev_decoder = l_in_decoder\n",
    "        for i in range(len(n_hidden)):\n",
    "            l_tmp_encoder = lasagne.layers.DenseLayer(l_prev_encoder,\n",
    "                                                      num_units=n_hidden[i],\n",
    "                                                      W=lasagne.init.Uniform(),\n",
    "                                                      nonlinearity=self.transf)\n",
    "            l_prev_encoder = l_tmp_encoder\n",
    "            \n",
    "        if n_hidden_decoder is None:\n",
    "            n_hidden_decoder = n_hidden\n",
    "        self.n_hidden_decoder = n_hidden_decoder\n",
    "        for i in range(len(n_hidden_decoder)):\n",
    "            l_tmp_decoder = lasagne.layers.DenseLayer(l_prev_decoder,\n",
    "                                                      num_units=n_hidden_decoder[-(i + 1)],\n",
    "                                                      W=lasagne.init.Uniform(),\n",
    "                                                      nonlinearity=self.transf)\n",
    "            l_prev_decoder = l_tmp_decoder\n",
    "\n",
    "        l_in = lasagne.layers.InputLayer(shape=(batch_size, n_in))\n",
    "        self.model = VAELayer(l_in,\n",
    "                              encoder=l_prev_encoder,\n",
    "                              decoder=l_prev_decoder,\n",
    "                              latent_size=n_out,\n",
    "                              x_distribution='bernoulli',\n",
    "                              qz_distribution='gaussianmarg', #gaussianmarg\n",
    "                              pz_distribution='gaussianmarg')\n",
    "        self.x = T.matrix('x')\n",
    "\n",
    "    def build_model(self, train_x, test_x, valid_x, update, update_args):\n",
    "        self.train_x = train_x\n",
    "        self.test_x = test_x\n",
    "        self.validation_x = valid_x\n",
    "        self.update = update\n",
    "        self.update_args = update_args\n",
    "        self.index = T.iscalar('index')\n",
    "        self.batch_slice = slice(self.index * self.batch_size, (self.index + 1) * self.batch_size)\n",
    "\n",
    "        x = self.srng.binomial(size=self.x.shape, n=1, p=self.x)\n",
    "        log_pz, log_qz_given_x, log_px_given_z = self.model.get_log_distributions(self.x)\n",
    "        loss_eval = # TODO: Calculate the loss.\n",
    "        loss_eval /= self.batch_size\n",
    "\n",
    "        all_params = get_all_params(self.model)\n",
    "        updates = self.update(-loss_eval, all_params, *self.update_args)\n",
    "\n",
    "        train_model = theano.function([self.index], loss_eval, updates=updates,\n",
    "                                      givens={self.x: self.train_x[self.batch_slice], },)\n",
    "\n",
    "        test_model = theano.function([self.index], loss_eval,\n",
    "                                     givens={self.x: self.test_x[self.batch_slice], },)\n",
    "\n",
    "        validate_model = theano.function([self.index], loss_eval,\n",
    "                                         givens={self.x: self.validation_x[self.batch_slice], },)\n",
    "\n",
    "        return train_model, test_model, validate_model\n",
    "\n",
    "    def draw_sample(self, z):\n",
    "        return self.model.draw_sample(z)\n",
    "\n",
    "    def get_output(self, dat):\n",
    "        z, _, _ = self.model.get_z_mu_sigma(dat)\n",
    "        return z\n",
    "\n",
    "    def get_reconstruction(self, z):\n",
    "        return self.model.decoder_output(z)"
   ]
  },
  {
   "cell_type": "markdown",
   "metadata": {},
   "source": [
    "Load the MNIST data."
   ]
  },
  {
   "cell_type": "code",
   "execution_count": 23,
   "metadata": {
    "collapsed": true
   },
   "outputs": [],
   "source": [
    "from random import shuffle\n",
    "def load_mnist():\n",
    "        \n",
    "    data = np.load('mnist.npz')\n",
    "    num_classes = 10\n",
    "    x_train, targets_train = data['X_train'].astype('float32'), data['y_train']\n",
    "    x_valid, targets_valid = data['X_valid'].astype('float32'), data['y_valid']\n",
    "    x_test, targets_test = data['X_test'].astype('float32'), data['y_test']\n",
    "\n",
    "\n",
    "    def shared_dataset(x, y, borrow=True):\n",
    "        shared_x = theano.shared(np.asarray(x, dtype=theano.config.floatX), borrow=borrow)\n",
    "        shared_y = theano.shared(np.asarray(y, dtype=theano.config.floatX), borrow=borrow)\n",
    "        return shared_x, shared_y\n",
    "\n",
    "    return shared_dataset(x_train, targets_train), shared_dataset(x_test, targets_test), shared_dataset(x_valid, targets_valid)\n",
    "\n",
    "\n",
    "(train_x, train_t), (test_x, test_t), (valid_x, valid_t) = load_mnist()\n"
   ]
  },
  {
   "cell_type": "markdown",
   "metadata": {},
   "source": [
    "Train the model."
   ]
  },
  {
   "cell_type": "code",
   "execution_count": 24,
   "metadata": {
    "collapsed": false
   },
   "outputs": [
    {
     "name": "stdout",
     "output_type": "stream",
     "text": [
      "[epoch,time,train,valid,test];0;2.21;-271.2392883301;-209.5191650391;-202.2790069580\n",
      "[epoch,time,train,valid,test];1;2.24;-207.0071411133;-203.0018310547;-196.8606109619\n",
      "[epoch,time,train,valid,test];2;2.26;-203.2704620361;-199.2065277100;-192.1400451660\n",
      "[epoch,time,train,valid,test];3;2.24;-200.0407409668;-197.5608062744;-191.2978820801\n",
      "[epoch,time,train,valid,test];4;2.27;-198.8417510986;-196.8873443604;-190.4666442871\n",
      "[epoch,time,train,valid,test];5;2.25;-198.1219787598;-196.4035491943;-190.2340393066\n",
      "[epoch,time,train,valid,test];6;2.62;-197.4880981445;-196.1784210205;-190.7859802246\n",
      "[epoch,time,train,valid,test];7;3.21;-196.7268218994;-195.1986846924;-189.1325988770\n",
      "[epoch,time,train,valid,test];8;3.06;-195.3804473877;-193.4749755859;-187.6169738770\n",
      "[epoch,time,train,valid,test];9;2.97;-192.2317962646;-188.3802795410;-182.0517883301\n",
      "[epoch,time,train,valid,test];10;2.95;-186.3847198486;-182.3971252441;-176.8207702637\n",
      "[epoch,time,train,valid,test];11;2.94;-181.3679656982;-179.4401550293;-174.4082794189\n",
      "[epoch,time,train,valid,test];12;2.87;-179.0666656494;-177.1242218018;-171.9793243408\n",
      "[epoch,time,train,valid,test];13;2.85;-176.2721099854;-173.6716461182;-169.1939392090\n",
      "[epoch,time,train,valid,test];14;2.86;-172.8761291504;-170.6483154297;-166.8035125732\n",
      "[epoch,time,train,valid,test];15;2.90;-169.5346527100;-167.7410888672;-164.3490905762\n",
      "[epoch,time,train,valid,test];16;2.89;-166.8596343994;-164.9985046387;-162.6159057617\n",
      "[epoch,time,train,valid,test];17;2.87;-163.3296356201;-160.5163269043;-158.4369964600\n",
      "[epoch,time,train,valid,test];18;2.84;-158.8786468506;-156.6560516357;-154.5544586182\n",
      "[epoch,time,train,valid,test];19;2.90;-154.6021881104;-153.3154449463;-151.3696594238\n",
      "[epoch,time,train,valid,test];20;2.82;-151.3422241211;-150.9837036133;-149.5441589355\n",
      "[epoch,time,train,valid,test];21;2.82;-149.2926025391;-148.8217926025;-147.6129608154\n",
      "[epoch,time,train,valid,test];22;2.82;-147.3837585449;-146.8968353271;-145.8598937988\n",
      "[epoch,time,train,valid,test];23;2.81;-145.0647430420;-144.8558502197;-143.2449951172\n",
      "[epoch,time,train,valid,test];24;2.81;-142.7082672119;-143.0690002441;-142.1652526855\n",
      "[epoch,time,train,valid,test];25;2.81;-140.9948577881;-141.4985961914;-140.4856719971\n",
      "[epoch,time,train,valid,test];26;2.81;-139.4404144287;-140.0632934570;-138.6830902100\n",
      "[epoch,time,train,valid,test];27;2.80;-137.9576263428;-138.7491760254;-137.8424224854\n",
      "[epoch,time,train,valid,test];28;2.81;-136.6103515625;-137.7104187012;-136.6720275879\n",
      "[epoch,time,train,valid,test];29;2.80;-135.3422546387;-136.2205810547;-135.5913696289\n",
      "[epoch,time,train,valid,test];30;2.79;-134.0936279297;-135.1618041992;-134.2701110840\n",
      "[epoch,time,train,valid,test];31;2.80;-132.7956695557;-133.8998565674;-132.7293395996\n",
      "[epoch,time,train,valid,test];32;2.80;-131.4884490967;-132.8401184082;-132.0393371582\n",
      "[epoch,time,train,valid,test];33;2.80;-130.3818511963;-132.0367584229;-131.2900085449\n",
      "[epoch,time,train,valid,test];34;2.81;-129.5152435303;-131.2732849121;-130.2195434570\n",
      "[epoch,time,train,valid,test];35;2.80;-128.4293212891;-130.6120452881;-129.7612457275\n",
      "[epoch,time,train,valid,test];36;2.80;-127.7342300415;-129.5836334229;-128.8714294434\n",
      "[epoch,time,train,valid,test];37;2.80;-127.0061111450;-129.0057678223;-128.0334167480\n",
      "[epoch,time,train,valid,test];38;2.78;-126.2303390503;-128.4829101562;-128.1372375488\n",
      "[epoch,time,train,valid,test];39;2.79;-125.6153869629;-128.3368377686;-127.4321136475\n",
      "[epoch,time,train,valid,test];40;2.80;-124.9782714844;-127.6889266968;-126.8503036499\n",
      "[epoch,time,train,valid,test];41;2.79;-124.4954528809;-127.4736175537;-126.7638168335\n",
      "[epoch,time,train,valid,test];42;2.81;-124.0150680542;-126.9823837280;-125.8796157837\n",
      "[epoch,time,train,valid,test];43;2.83;-123.7134170532;-126.5822143555;-125.5818939209\n",
      "[epoch,time,train,valid,test];44;2.81;-123.1194992065;-126.3420639038;-125.3914947510\n",
      "[epoch,time,train,valid,test];45;2.82;-122.7552642822;-125.5341567993;-124.9327163696\n",
      "[epoch,time,train,valid,test];46;2.84;-122.4142456055;-125.1044082642;-124.4765472412\n",
      "[epoch,time,train,valid,test];47;2.84;-121.9530639648;-125.0741424561;-124.4487533569\n",
      "[epoch,time,train,valid,test];48;2.83;-121.4583435059;-124.6991958618;-124.0677032471\n",
      "[epoch,time,train,valid,test];49;2.80;-121.2989425659;-124.4210662842;-123.6445312500\n"
     ]
    }
   ],
   "source": [
    "model = VAE(784, [200, 200], 200, trans_func=rectify, batch_size=100)\n",
    "train_model, test_model, valid_model = model.build_model(train_x, test_x, valid_x, adam, update_args=(1e-3,))\n",
    "\n",
    "\n",
    "import time\n",
    "batch_size = 500\n",
    "n_epochs = 50\n",
    "eval_train = {}\n",
    "eval_test = {}\n",
    "eval_valid = {}\n",
    "n_train_batches = train_x.get_value(borrow=True).shape[0] / batch_size\n",
    "n_test_batches = test_x.get_value(borrow=True).shape[0] / batch_size\n",
    "n_valid_batches = valid_x.get_value(borrow=True).shape[0] / batch_size\n",
    "\n",
    "for epoch in range(n_epochs):\n",
    "    start_time = time.time()\n",
    "    avg_costs = []\n",
    "    for minibatch_index in xrange(n_train_batches):\n",
    "        minibatch_avg_cost = train_model(minibatch_index)\n",
    "        avg_costs.append(minibatch_avg_cost)\n",
    "    eval_train[epoch] = np.mean(avg_costs)\n",
    "    test_losses = [test_model(i) for i in xrange(n_test_batches)]\n",
    "    valid_losses = [valid_model(i) for i in xrange(n_valid_batches)]\n",
    "    eval_test[epoch] = np.mean(test_losses)\n",
    "    eval_valid[epoch] = np.mean(valid_losses)\n",
    "    end_time = time.time() - start_time\n",
    "    print \"[epoch,time,train,valid,test];%i;%.2f;%.10f;%.10f;%.10f\" % (epoch, end_time, eval_train[epoch], eval_valid[epoch], eval_test[epoch])\n",
    "    log_pz, log_qz_given_x, log_px_given_z = model.model.get_log_distributions(test_x)"
   ]
  },
  {
   "cell_type": "code",
   "execution_count": 25,
   "metadata": {
    "collapsed": true
   },
   "outputs": [],
   "source": [
    "import matplotlib.pyplot as plt # Plotting library.\n",
    "import matplotlib\n",
    "%matplotlib inline"
   ]
  },
  {
   "cell_type": "code",
   "execution_count": 26,
   "metadata": {
    "collapsed": false
   },
   "outputs": [
    {
     "data": {
      "text/plain": [
       "<matplotlib.text.Text at 0x1126dd3d0>"
      ]
     },
     "execution_count": 26,
     "metadata": {},
     "output_type": "execute_result"
    },
    {
     "data": {
      "image/png": "[encoded data removed]",
      "text/plain": [
       "<matplotlib.figure.Figure at 0x10e67b0d0>"
      ]
     },
     "metadata": {},
     "output_type": "display_data"
    }
   ],
   "source": [
    "fig = plt.figure(figsize=(10,10))\n",
    "plt.plot(eval_train.keys(), eval_train.values(), label='training data')\n",
    "plt.plot(eval_test.keys(), eval_test.values(), label='testing data')\n",
    "plt.legend()\n",
    "plt.ylabel(\"Log Likelihood\")\n",
    "plt.xlabel('Epochs')"
   ]
  },
  {
   "cell_type": "markdown",
   "metadata": {},
   "source": [
    "Plot the reconstructions."
   ]
  },
  {
   "cell_type": "code",
   "execution_count": 27,
   "metadata": {
    "collapsed": false
   },
   "outputs": [
    {
     "data": {
      "text/plain": [
       "<matplotlib.figure.Figure at 0x11d0d3e50>"
      ]
     },
     "metadata": {},
     "output_type": "display_data"
    },
    {
     "data": {
      "image/png": "[encoded data removed]",
      "text/plain": [
       "<matplotlib.figure.Figure at 0x1115a6450>"
      ]
     },
     "metadata": {},
     "output_type": "display_data"
    }
   ],
   "source": [
    "test_x_eval = test_x.eval()\n",
    "subset = np.random.randint(0, len(test_x_eval), size=50)\n",
    "x = np.array(test_x_eval)[np.array(subset)]\n",
    "z = model.get_output(x)\n",
    "x_recon = model.get_reconstruction(z).eval()\n",
    "fig = plt.figure()\n",
    "i = 0\n",
    "img_out = np.zeros((28 * 2, 28 * len(subset)))\n",
    "for y in range(len(subset)):\n",
    "    x_a, x_b = 0 * 28, 1 * 28\n",
    "    x_recon_a, x_recon_b = 1 * 28, 2 * 28\n",
    "    ya, yb = y * 28, (y + 1) * 28\n",
    "    im = np.reshape(x[i], (28, 28))\n",
    "    im_recon = np.reshape(x_recon[i], (28, 28))\n",
    "    img_out[x_a:x_b, ya:yb] = im\n",
    "    img_out[x_recon_a:x_recon_b, ya:yb] = im_recon\n",
    "    i += 1\n",
    "m = plt.matshow(img_out, cmap='gray')\n",
    "plt.xticks(np.array([]))\n",
    "plt.yticks(np.array([]))\n",
    "plt.show()"
   ]
  },
  {
   "cell_type": "markdown",
   "metadata": {},
   "source": [
    "##Exercise 5\n",
    "Plot samples from the $z$ distribution using a mesh like Kingma in http://arxiv.org/pdf/1312.6114v10.pdf."
   ]
  },
  {
   "cell_type": "code",
   "execution_count": null,
   "metadata": {
    "collapsed": true
   },
   "outputs": [],
   "source": []
  }
 ],
 "metadata": {
  "kernelspec": {
   "display_name": "Python 2",
   "language": "python",
   "name": "python2"
  },
  "language_info": {
   "codemirror_mode": {
    "name": "ipython",
    "version": 2
   },
   "file_extension": ".py",
   "mimetype": "text/x-python",
   "name": "python",
   "nbconvert_exporter": "python",
   "pygments_lexer": "ipython2",
   "version": "2.7.11"
  }
 },
 "nbformat": 4,
 "nbformat_minor": 0
}
